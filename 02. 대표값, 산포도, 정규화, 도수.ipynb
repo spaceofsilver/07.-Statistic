{
 "cells": [
  {
   "cell_type": "code",
   "execution_count": 1,
   "metadata": {},
   "outputs": [],
   "source": [
    "import numpy as np\n",
    "import pandas as pd\n",
    "import matplotlib.pyplot as plt"
   ]
  },
  {
   "cell_type": "code",
   "execution_count": 2,
   "metadata": {},
   "outputs": [
    {
     "data": {
      "text/html": [
       "<div>\n",
       "<style scoped>\n",
       "    .dataframe tbody tr th:only-of-type {\n",
       "        vertical-align: middle;\n",
       "    }\n",
       "\n",
       "    .dataframe tbody tr th {\n",
       "        vertical-align: top;\n",
       "    }\n",
       "\n",
       "    .dataframe thead th {\n",
       "        text-align: right;\n",
       "    }\n",
       "</style>\n",
       "<table border=\"1\" class=\"dataframe\">\n",
       "  <thead>\n",
       "    <tr style=\"text-align: right;\">\n",
       "      <th></th>\n",
       "      <th>english</th>\n",
       "      <th>mathematics</th>\n",
       "    </tr>\n",
       "    <tr>\n",
       "      <th>student number</th>\n",
       "      <th></th>\n",
       "      <th></th>\n",
       "    </tr>\n",
       "  </thead>\n",
       "  <tbody>\n",
       "    <tr>\n",
       "      <th>1</th>\n",
       "      <td>42</td>\n",
       "      <td>65</td>\n",
       "    </tr>\n",
       "    <tr>\n",
       "      <th>2</th>\n",
       "      <td>69</td>\n",
       "      <td>80</td>\n",
       "    </tr>\n",
       "    <tr>\n",
       "      <th>3</th>\n",
       "      <td>56</td>\n",
       "      <td>63</td>\n",
       "    </tr>\n",
       "    <tr>\n",
       "      <th>4</th>\n",
       "      <td>41</td>\n",
       "      <td>63</td>\n",
       "    </tr>\n",
       "    <tr>\n",
       "      <th>5</th>\n",
       "      <td>57</td>\n",
       "      <td>76</td>\n",
       "    </tr>\n",
       "  </tbody>\n",
       "</table>\n",
       "</div>"
      ],
      "text/plain": [
       "                english  mathematics\n",
       "student number                      \n",
       "1                    42           65\n",
       "2                    69           80\n",
       "3                    56           63\n",
       "4                    41           63\n",
       "5                    57           76"
      ]
     },
     "execution_count": 2,
     "metadata": {},
     "output_type": "execute_result"
    }
   ],
   "source": [
    "df = pd.read_csv( '../data/data3/ch2_scores_em.csv',\n",
    "                     index_col='student number')\n",
    "df.head()"
   ]
  },
  {
   "cell_type": "code",
   "execution_count": 4,
   "metadata": {},
   "outputs": [
    {
     "data": {
      "text/plain": [
       "english        50\n",
       "mathematics    50\n",
       "dtype: int64"
      ]
     },
     "execution_count": 4,
     "metadata": {},
     "output_type": "execute_result"
    }
   ],
   "source": [
    "df.count()"
   ]
  },
  {
   "cell_type": "code",
   "execution_count": 8,
   "metadata": {},
   "outputs": [
    {
     "data": {
      "text/plain": [
       "array([42, 69, 56, 41, 57, 48, 65, 49, 65, 58, 70, 47, 51, 64, 62, 70, 71,\n",
       "       68, 73, 37, 65, 65, 61, 52, 57, 57, 75, 61, 47, 54, 66, 54, 54, 42,\n",
       "       37, 79, 56, 62, 62, 55, 63, 57, 57, 67, 55, 45, 66, 55, 64, 66],\n",
       "      dtype=int64)"
      ]
     },
     "execution_count": 8,
     "metadata": {},
     "output_type": "execute_result"
    }
   ],
   "source": [
    "eng_sco  = df['english'].values\n",
    "eng_sco # ndarray객체 반환"
   ]
  },
  {
   "cell_type": "markdown",
   "metadata": {},
   "source": [
    "# 1. 대표값\n",
    "- 평균값\n",
    "- 중앙값\n",
    "- 최빈값"
   ]
  },
  {
   "cell_type": "code",
   "execution_count": 9,
   "metadata": {},
   "outputs": [
    {
     "data": {
      "text/plain": [
       "2919"
      ]
     },
     "execution_count": 9,
     "metadata": {},
     "output_type": "execute_result"
    }
   ],
   "source": [
    "eng_sco.sum() # ndarray 멤버함수"
   ]
  },
  {
   "cell_type": "code",
   "execution_count": 10,
   "metadata": {},
   "outputs": [
    {
     "data": {
      "text/plain": [
       "58.38"
      ]
     },
     "execution_count": 10,
     "metadata": {},
     "output_type": "execute_result"
    }
   ],
   "source": [
    "## 평균값\n",
    "eng_sco.sum()/ len( eng_sco )"
   ]
  },
  {
   "cell_type": "code",
   "execution_count": 14,
   "metadata": {},
   "outputs": [
    {
     "data": {
      "text/plain": [
       "57.5"
      ]
     },
     "execution_count": 14,
     "metadata": {},
     "output_type": "execute_result"
    }
   ],
   "source": [
    "## 중앙값\n",
    "np.median( eng_sco ) # numpy 멤버 함수"
   ]
  },
  {
   "cell_type": "code",
   "execution_count": 18,
   "metadata": {},
   "outputs": [
    {
     "data": {
      "text/plain": [
       "57.5"
      ]
     },
     "execution_count": 18,
     "metadata": {},
     "output_type": "execute_result"
    }
   ],
   "source": [
    "sorted_scores = np.sort( eng_sco ) # 오름차순으로 정렬\n",
    "\n",
    "n = len(sorted_scores) # 갯수( 50 개) \n",
    "if n % 2 == 0:\n",
    "    m0 = sorted_scores[n//2 - 1] # ndarray 인덱싱 -> arr[1] : 1번째 값\n",
    "    m1 = sorted_scores[n//2]\n",
    "    median = (m0 + m1) / 2\n",
    "else:\n",
    "    median = sorted_scores[ (n+1)//2 - 1 ]\n",
    "median"
   ]
  },
  {
   "cell_type": "code",
   "execution_count": 22,
   "metadata": {},
   "outputs": [],
   "source": [
    "## 최빈값\n",
    "from scipy.stats import mode"
   ]
  },
  {
   "cell_type": "code",
   "execution_count": 30,
   "metadata": {},
   "outputs": [
    {
     "data": {
      "text/plain": [
       "ModeResult(mode=array([1]), count=array([3]))"
      ]
     },
     "execution_count": 30,
     "metadata": {},
     "output_type": "execute_result"
    }
   ],
   "source": [
    "mode([1,1,1,2,2,3])\n",
    "# 1이 가장 빈도 높은 값, 3번 등장"
   ]
  },
  {
   "cell_type": "code",
   "execution_count": 31,
   "metadata": {},
   "outputs": [
    {
     "name": "stdout",
     "output_type": "stream",
     "text": [
      "[1] [3]\n"
     ]
    }
   ],
   "source": [
    "print( mode([1,1,1,2,2,3])[0], mode([1,1,1,2,2,3])[1] )"
   ]
  },
  {
   "cell_type": "code",
   "execution_count": 37,
   "metadata": {},
   "outputs": [
    {
     "name": "stdout",
     "output_type": "stream",
     "text": [
      "1 3\n"
     ]
    }
   ],
   "source": [
    "dt, c = np.unique( [1,1,1,2,2,3] ,return_counts=True ) # numpy함수\n",
    "# 중복 없이 보여준다\n",
    "# return_counts = True를 하면 각 개수가 나온다.\n",
    "for i,j in zip(dt,c):\n",
    "    if j == c.max():\n",
    "        print(i,j)"
   ]
  },
  {
   "cell_type": "code",
   "execution_count": 39,
   "metadata": {},
   "outputs": [
    {
     "data": {
      "text/plain": [
       "ModeResult(mode=array([57], dtype=int64), count=array([5]))"
      ]
     },
     "execution_count": 39,
     "metadata": {},
     "output_type": "execute_result"
    }
   ],
   "source": [
    "mode( eng_sco )"
   ]
  },
  {
   "cell_type": "markdown",
   "metadata": {},
   "source": [
    "# 2. 산포도\n",
    "- 편차\n",
    "    - 개별 데이터 - 평균\n",
    "- 분산\n",
    "    - var = ( 개별 데이터 - 평균 )^2.mean()\n",
    "- 표준편차\n",
    "    - std = sqart( var )"
   ]
  },
  {
   "cell_type": "code",
   "execution_count": 41,
   "metadata": {},
   "outputs": [
    {
     "data": {
      "text/plain": [
       "array([1, 2, 3, 4, 5])"
      ]
     },
     "execution_count": 41,
     "metadata": {},
     "output_type": "execute_result"
    }
   ],
   "source": [
    "dt = np.array( [1,2,3,4,5])\n",
    "dt"
   ]
  },
  {
   "cell_type": "code",
   "execution_count": 42,
   "metadata": {},
   "outputs": [
    {
     "data": {
      "text/plain": [
       "3.0"
      ]
     },
     "execution_count": 42,
     "metadata": {},
     "output_type": "execute_result"
    }
   ],
   "source": [
    "dt.mean()"
   ]
  },
  {
   "cell_type": "code",
   "execution_count": 65,
   "metadata": {},
   "outputs": [
    {
     "data": {
      "text/plain": [
       "array([-2., -1.,  0.,  1.,  2.])"
      ]
     },
     "execution_count": 65,
     "metadata": {},
     "output_type": "execute_result"
    }
   ],
   "source": [
    "## 편차 : 개별 데이터 - 평균\n",
    "d = dt - dt.mean()\n",
    "d"
   ]
  },
  {
   "cell_type": "code",
   "execution_count": 56,
   "metadata": {},
   "outputs": [
    {
     "data": {
      "text/plain": [
       "array([-21.38, -21.38, -17.38, -16.38, -16.38, -13.38, -11.38, -11.38,\n",
       "       -10.38,  -9.38,  -7.38,  -6.38,  -4.38,  -4.38,  -4.38,  -3.38,\n",
       "        -3.38,  -3.38,  -2.38,  -2.38,  -1.38,  -1.38,  -1.38,  -1.38,\n",
       "        -1.38,  -0.38,   2.62,   2.62,   3.62,   3.62,   3.62,   4.62,\n",
       "         5.62,   5.62,   6.62,   6.62,   6.62,   6.62,   7.62,   7.62,\n",
       "         7.62,   8.62,   9.62,  10.62,  11.62,  11.62,  12.62,  14.62,\n",
       "        16.62,  20.62])"
      ]
     },
     "execution_count": 56,
     "metadata": {},
     "output_type": "execute_result"
    }
   ],
   "source": [
    "e = eng_sco - eng_sco.mean()\n",
    "e"
   ]
  },
  {
   "cell_type": "code",
   "execution_count": 57,
   "metadata": {},
   "outputs": [
    {
     "data": {
      "text/plain": [
       "-2.5579538487363606e-15"
      ]
     },
     "execution_count": 57,
     "metadata": {},
     "output_type": "execute_result"
    }
   ],
   "source": [
    "e.mean()"
   ]
  },
  {
   "cell_type": "code",
   "execution_count": 59,
   "metadata": {},
   "outputs": [
    {
     "data": {
      "text/plain": [
       "2.0"
      ]
     },
     "execution_count": 59,
     "metadata": {},
     "output_type": "execute_result"
    }
   ],
   "source": [
    "## 분산\n",
    "a = (dt - dt.mean())**2\n",
    "a.mean()"
   ]
  },
  {
   "cell_type": "code",
   "execution_count": 62,
   "metadata": {},
   "outputs": [
    {
     "data": {
      "text/plain": [
       "2.0"
      ]
     },
     "execution_count": 62,
     "metadata": {},
     "output_type": "execute_result"
    }
   ],
   "source": [
    "dt.var()"
   ]
  },
  {
   "cell_type": "code",
   "execution_count": 63,
   "metadata": {},
   "outputs": [
    {
     "data": {
      "text/plain": [
       "1.4142135623730951"
      ]
     },
     "execution_count": 63,
     "metadata": {},
     "output_type": "execute_result"
    }
   ],
   "source": [
    "## 표준편차\n",
    "# 단위를 맞추기 위해 \n",
    "np.sqrt( dt.var() )"
   ]
  },
  {
   "cell_type": "code",
   "execution_count": 64,
   "metadata": {},
   "outputs": [
    {
     "data": {
      "text/plain": [
       "1.4142135623730951"
      ]
     },
     "execution_count": 64,
     "metadata": {},
     "output_type": "execute_result"
    }
   ],
   "source": [
    "dt.std()"
   ]
  },
  {
   "cell_type": "code",
   "execution_count": 68,
   "metadata": {},
   "outputs": [
    {
     "data": {
      "text/plain": [
       "array([-21.38, -21.38, -17.38, -16.38, -16.38, -13.38, -11.38, -11.38,\n",
       "       -10.38,  -9.38,  -7.38,  -6.38,  -4.38,  -4.38,  -4.38,  -3.38,\n",
       "        -3.38,  -3.38,  -2.38,  -2.38,  -1.38,  -1.38,  -1.38,  -1.38,\n",
       "        -1.38,  -0.38,   2.62,   2.62,   3.62,   3.62,   3.62,   4.62,\n",
       "         5.62,   5.62,   6.62,   6.62,   6.62,   6.62,   7.62,   7.62,\n",
       "         7.62,   8.62,   9.62,  10.62,  11.62,  11.62,  12.62,  14.62,\n",
       "        16.62,  20.62])"
      ]
     },
     "execution_count": 68,
     "metadata": {},
     "output_type": "execute_result"
    }
   ],
   "source": [
    "# 편차\n",
    "eng_sco - eng_sco.mean()"
   ]
  },
  {
   "cell_type": "code",
   "execution_count": 73,
   "metadata": {},
   "outputs": [
    {
     "data": {
      "text/plain": [
       "(94.11560000000001, 94.11560000000001)"
      ]
     },
     "execution_count": 73,
     "metadata": {},
     "output_type": "execute_result"
    }
   ],
   "source": [
    "# 분산\n",
    "( (eng_sco - eng_sco.mean())**2 ).mean(), eng_sco.var()"
   ]
  },
  {
   "cell_type": "code",
   "execution_count": 74,
   "metadata": {},
   "outputs": [
    {
     "data": {
      "text/plain": [
       "(9.70131949788275, 9.70131949788275)"
      ]
     },
     "execution_count": 74,
     "metadata": {},
     "output_type": "execute_result"
    }
   ],
   "source": [
    "# 표준편차\n",
    "np.sqrt( ((eng_sco - eng_sco.mean())**2).mean() ) ,eng_sco.std()"
   ]
  },
  {
   "cell_type": "code",
   "execution_count": 79,
   "metadata": {},
   "outputs": [],
   "source": [
    "deviation = eng_sco - eng_sco.mean()\n",
    "summary_df = pd.DataFrame( [eng_sco, deviation])\n",
    "summary_df = summary_df.T"
   ]
  },
  {
   "cell_type": "code",
   "execution_count": 81,
   "metadata": {
    "collapsed": true
   },
   "outputs": [
    {
     "data": {
      "text/html": [
       "<div>\n",
       "<style scoped>\n",
       "    .dataframe tbody tr th:only-of-type {\n",
       "        vertical-align: middle;\n",
       "    }\n",
       "\n",
       "    .dataframe tbody tr th {\n",
       "        vertical-align: top;\n",
       "    }\n",
       "\n",
       "    .dataframe thead th {\n",
       "        text-align: right;\n",
       "    }\n",
       "</style>\n",
       "<table border=\"1\" class=\"dataframe\">\n",
       "  <thead>\n",
       "    <tr style=\"text-align: right;\">\n",
       "      <th></th>\n",
       "      <th>0</th>\n",
       "      <th>1</th>\n",
       "      <th>square of deviation</th>\n",
       "    </tr>\n",
       "  </thead>\n",
       "  <tbody>\n",
       "    <tr>\n",
       "      <th>0</th>\n",
       "      <td>37.0</td>\n",
       "      <td>-21.38</td>\n",
       "      <td>457.1044</td>\n",
       "    </tr>\n",
       "    <tr>\n",
       "      <th>1</th>\n",
       "      <td>37.0</td>\n",
       "      <td>-21.38</td>\n",
       "      <td>457.1044</td>\n",
       "    </tr>\n",
       "    <tr>\n",
       "      <th>2</th>\n",
       "      <td>41.0</td>\n",
       "      <td>-17.38</td>\n",
       "      <td>302.0644</td>\n",
       "    </tr>\n",
       "    <tr>\n",
       "      <th>3</th>\n",
       "      <td>42.0</td>\n",
       "      <td>-16.38</td>\n",
       "      <td>268.3044</td>\n",
       "    </tr>\n",
       "    <tr>\n",
       "      <th>4</th>\n",
       "      <td>42.0</td>\n",
       "      <td>-16.38</td>\n",
       "      <td>268.3044</td>\n",
       "    </tr>\n",
       "    <tr>\n",
       "      <th>5</th>\n",
       "      <td>45.0</td>\n",
       "      <td>-13.38</td>\n",
       "      <td>179.0244</td>\n",
       "    </tr>\n",
       "    <tr>\n",
       "      <th>6</th>\n",
       "      <td>47.0</td>\n",
       "      <td>-11.38</td>\n",
       "      <td>129.5044</td>\n",
       "    </tr>\n",
       "    <tr>\n",
       "      <th>7</th>\n",
       "      <td>47.0</td>\n",
       "      <td>-11.38</td>\n",
       "      <td>129.5044</td>\n",
       "    </tr>\n",
       "    <tr>\n",
       "      <th>8</th>\n",
       "      <td>48.0</td>\n",
       "      <td>-10.38</td>\n",
       "      <td>107.7444</td>\n",
       "    </tr>\n",
       "    <tr>\n",
       "      <th>9</th>\n",
       "      <td>49.0</td>\n",
       "      <td>-9.38</td>\n",
       "      <td>87.9844</td>\n",
       "    </tr>\n",
       "    <tr>\n",
       "      <th>10</th>\n",
       "      <td>51.0</td>\n",
       "      <td>-7.38</td>\n",
       "      <td>54.4644</td>\n",
       "    </tr>\n",
       "    <tr>\n",
       "      <th>11</th>\n",
       "      <td>52.0</td>\n",
       "      <td>-6.38</td>\n",
       "      <td>40.7044</td>\n",
       "    </tr>\n",
       "    <tr>\n",
       "      <th>12</th>\n",
       "      <td>54.0</td>\n",
       "      <td>-4.38</td>\n",
       "      <td>19.1844</td>\n",
       "    </tr>\n",
       "    <tr>\n",
       "      <th>13</th>\n",
       "      <td>54.0</td>\n",
       "      <td>-4.38</td>\n",
       "      <td>19.1844</td>\n",
       "    </tr>\n",
       "    <tr>\n",
       "      <th>14</th>\n",
       "      <td>54.0</td>\n",
       "      <td>-4.38</td>\n",
       "      <td>19.1844</td>\n",
       "    </tr>\n",
       "    <tr>\n",
       "      <th>15</th>\n",
       "      <td>55.0</td>\n",
       "      <td>-3.38</td>\n",
       "      <td>11.4244</td>\n",
       "    </tr>\n",
       "    <tr>\n",
       "      <th>16</th>\n",
       "      <td>55.0</td>\n",
       "      <td>-3.38</td>\n",
       "      <td>11.4244</td>\n",
       "    </tr>\n",
       "    <tr>\n",
       "      <th>17</th>\n",
       "      <td>55.0</td>\n",
       "      <td>-3.38</td>\n",
       "      <td>11.4244</td>\n",
       "    </tr>\n",
       "    <tr>\n",
       "      <th>18</th>\n",
       "      <td>56.0</td>\n",
       "      <td>-2.38</td>\n",
       "      <td>5.6644</td>\n",
       "    </tr>\n",
       "    <tr>\n",
       "      <th>19</th>\n",
       "      <td>56.0</td>\n",
       "      <td>-2.38</td>\n",
       "      <td>5.6644</td>\n",
       "    </tr>\n",
       "    <tr>\n",
       "      <th>20</th>\n",
       "      <td>57.0</td>\n",
       "      <td>-1.38</td>\n",
       "      <td>1.9044</td>\n",
       "    </tr>\n",
       "    <tr>\n",
       "      <th>21</th>\n",
       "      <td>57.0</td>\n",
       "      <td>-1.38</td>\n",
       "      <td>1.9044</td>\n",
       "    </tr>\n",
       "    <tr>\n",
       "      <th>22</th>\n",
       "      <td>57.0</td>\n",
       "      <td>-1.38</td>\n",
       "      <td>1.9044</td>\n",
       "    </tr>\n",
       "    <tr>\n",
       "      <th>23</th>\n",
       "      <td>57.0</td>\n",
       "      <td>-1.38</td>\n",
       "      <td>1.9044</td>\n",
       "    </tr>\n",
       "    <tr>\n",
       "      <th>24</th>\n",
       "      <td>57.0</td>\n",
       "      <td>-1.38</td>\n",
       "      <td>1.9044</td>\n",
       "    </tr>\n",
       "    <tr>\n",
       "      <th>25</th>\n",
       "      <td>58.0</td>\n",
       "      <td>-0.38</td>\n",
       "      <td>0.1444</td>\n",
       "    </tr>\n",
       "    <tr>\n",
       "      <th>26</th>\n",
       "      <td>61.0</td>\n",
       "      <td>2.62</td>\n",
       "      <td>6.8644</td>\n",
       "    </tr>\n",
       "    <tr>\n",
       "      <th>27</th>\n",
       "      <td>61.0</td>\n",
       "      <td>2.62</td>\n",
       "      <td>6.8644</td>\n",
       "    </tr>\n",
       "    <tr>\n",
       "      <th>28</th>\n",
       "      <td>62.0</td>\n",
       "      <td>3.62</td>\n",
       "      <td>13.1044</td>\n",
       "    </tr>\n",
       "    <tr>\n",
       "      <th>29</th>\n",
       "      <td>62.0</td>\n",
       "      <td>3.62</td>\n",
       "      <td>13.1044</td>\n",
       "    </tr>\n",
       "    <tr>\n",
       "      <th>30</th>\n",
       "      <td>62.0</td>\n",
       "      <td>3.62</td>\n",
       "      <td>13.1044</td>\n",
       "    </tr>\n",
       "    <tr>\n",
       "      <th>31</th>\n",
       "      <td>63.0</td>\n",
       "      <td>4.62</td>\n",
       "      <td>21.3444</td>\n",
       "    </tr>\n",
       "    <tr>\n",
       "      <th>32</th>\n",
       "      <td>64.0</td>\n",
       "      <td>5.62</td>\n",
       "      <td>31.5844</td>\n",
       "    </tr>\n",
       "    <tr>\n",
       "      <th>33</th>\n",
       "      <td>64.0</td>\n",
       "      <td>5.62</td>\n",
       "      <td>31.5844</td>\n",
       "    </tr>\n",
       "    <tr>\n",
       "      <th>34</th>\n",
       "      <td>65.0</td>\n",
       "      <td>6.62</td>\n",
       "      <td>43.8244</td>\n",
       "    </tr>\n",
       "    <tr>\n",
       "      <th>35</th>\n",
       "      <td>65.0</td>\n",
       "      <td>6.62</td>\n",
       "      <td>43.8244</td>\n",
       "    </tr>\n",
       "    <tr>\n",
       "      <th>36</th>\n",
       "      <td>65.0</td>\n",
       "      <td>6.62</td>\n",
       "      <td>43.8244</td>\n",
       "    </tr>\n",
       "    <tr>\n",
       "      <th>37</th>\n",
       "      <td>65.0</td>\n",
       "      <td>6.62</td>\n",
       "      <td>43.8244</td>\n",
       "    </tr>\n",
       "    <tr>\n",
       "      <th>38</th>\n",
       "      <td>66.0</td>\n",
       "      <td>7.62</td>\n",
       "      <td>58.0644</td>\n",
       "    </tr>\n",
       "    <tr>\n",
       "      <th>39</th>\n",
       "      <td>66.0</td>\n",
       "      <td>7.62</td>\n",
       "      <td>58.0644</td>\n",
       "    </tr>\n",
       "    <tr>\n",
       "      <th>40</th>\n",
       "      <td>66.0</td>\n",
       "      <td>7.62</td>\n",
       "      <td>58.0644</td>\n",
       "    </tr>\n",
       "    <tr>\n",
       "      <th>41</th>\n",
       "      <td>67.0</td>\n",
       "      <td>8.62</td>\n",
       "      <td>74.3044</td>\n",
       "    </tr>\n",
       "    <tr>\n",
       "      <th>42</th>\n",
       "      <td>68.0</td>\n",
       "      <td>9.62</td>\n",
       "      <td>92.5444</td>\n",
       "    </tr>\n",
       "    <tr>\n",
       "      <th>43</th>\n",
       "      <td>69.0</td>\n",
       "      <td>10.62</td>\n",
       "      <td>112.7844</td>\n",
       "    </tr>\n",
       "    <tr>\n",
       "      <th>44</th>\n",
       "      <td>70.0</td>\n",
       "      <td>11.62</td>\n",
       "      <td>135.0244</td>\n",
       "    </tr>\n",
       "    <tr>\n",
       "      <th>45</th>\n",
       "      <td>70.0</td>\n",
       "      <td>11.62</td>\n",
       "      <td>135.0244</td>\n",
       "    </tr>\n",
       "    <tr>\n",
       "      <th>46</th>\n",
       "      <td>71.0</td>\n",
       "      <td>12.62</td>\n",
       "      <td>159.2644</td>\n",
       "    </tr>\n",
       "    <tr>\n",
       "      <th>47</th>\n",
       "      <td>73.0</td>\n",
       "      <td>14.62</td>\n",
       "      <td>213.7444</td>\n",
       "    </tr>\n",
       "    <tr>\n",
       "      <th>48</th>\n",
       "      <td>75.0</td>\n",
       "      <td>16.62</td>\n",
       "      <td>276.2244</td>\n",
       "    </tr>\n",
       "    <tr>\n",
       "      <th>49</th>\n",
       "      <td>79.0</td>\n",
       "      <td>20.62</td>\n",
       "      <td>425.1844</td>\n",
       "    </tr>\n",
       "  </tbody>\n",
       "</table>\n",
       "</div>"
      ],
      "text/plain": [
       "       0      1  square of deviation\n",
       "0   37.0 -21.38             457.1044\n",
       "1   37.0 -21.38             457.1044\n",
       "2   41.0 -17.38             302.0644\n",
       "3   42.0 -16.38             268.3044\n",
       "4   42.0 -16.38             268.3044\n",
       "5   45.0 -13.38             179.0244\n",
       "6   47.0 -11.38             129.5044\n",
       "7   47.0 -11.38             129.5044\n",
       "8   48.0 -10.38             107.7444\n",
       "9   49.0  -9.38              87.9844\n",
       "10  51.0  -7.38              54.4644\n",
       "11  52.0  -6.38              40.7044\n",
       "12  54.0  -4.38              19.1844\n",
       "13  54.0  -4.38              19.1844\n",
       "14  54.0  -4.38              19.1844\n",
       "15  55.0  -3.38              11.4244\n",
       "16  55.0  -3.38              11.4244\n",
       "17  55.0  -3.38              11.4244\n",
       "18  56.0  -2.38               5.6644\n",
       "19  56.0  -2.38               5.6644\n",
       "20  57.0  -1.38               1.9044\n",
       "21  57.0  -1.38               1.9044\n",
       "22  57.0  -1.38               1.9044\n",
       "23  57.0  -1.38               1.9044\n",
       "24  57.0  -1.38               1.9044\n",
       "25  58.0  -0.38               0.1444\n",
       "26  61.0   2.62               6.8644\n",
       "27  61.0   2.62               6.8644\n",
       "28  62.0   3.62              13.1044\n",
       "29  62.0   3.62              13.1044\n",
       "30  62.0   3.62              13.1044\n",
       "31  63.0   4.62              21.3444\n",
       "32  64.0   5.62              31.5844\n",
       "33  64.0   5.62              31.5844\n",
       "34  65.0   6.62              43.8244\n",
       "35  65.0   6.62              43.8244\n",
       "36  65.0   6.62              43.8244\n",
       "37  65.0   6.62              43.8244\n",
       "38  66.0   7.62              58.0644\n",
       "39  66.0   7.62              58.0644\n",
       "40  66.0   7.62              58.0644\n",
       "41  67.0   8.62              74.3044\n",
       "42  68.0   9.62              92.5444\n",
       "43  69.0  10.62             112.7844\n",
       "44  70.0  11.62             135.0244\n",
       "45  70.0  11.62             135.0244\n",
       "46  71.0  12.62             159.2644\n",
       "47  73.0  14.62             213.7444\n",
       "48  75.0  16.62             276.2244\n",
       "49  79.0  20.62             425.1844"
      ]
     },
     "execution_count": 81,
     "metadata": {},
     "output_type": "execute_result"
    }
   ],
   "source": [
    "summary_df['square of deviation'] = np.square( deviation )\n",
    "summary_df"
   ]
  },
  {
   "cell_type": "code",
   "execution_count": 82,
   "metadata": {},
   "outputs": [
    {
     "data": {
      "text/plain": [
       "94.11560000000001"
      ]
     },
     "execution_count": 82,
     "metadata": {},
     "output_type": "execute_result"
    }
   ],
   "source": [
    "summary_df['square of deviation'].sum()/ len( summary_df['square of deviation'] )"
   ]
  },
  {
   "cell_type": "code",
   "execution_count": null,
   "metadata": {},
   "outputs": [],
   "source": [
    "summary_df['square of deviation'].sum()/ len( summary_df['square of deviation'] )"
   ]
  },
  {
   "cell_type": "markdown",
   "metadata": {},
   "source": [
    "# *범위\n",
    "- max - min"
   ]
  },
  {
   "cell_type": "code",
   "execution_count": 83,
   "metadata": {},
   "outputs": [
    {
     "data": {
      "text/plain": [
       "42"
      ]
     },
     "execution_count": 83,
     "metadata": {},
     "output_type": "execute_result"
    }
   ],
   "source": [
    "eng_sco.max() - eng_sco.min()"
   ]
  },
  {
   "cell_type": "code",
   "execution_count": 84,
   "metadata": {},
   "outputs": [
    {
     "data": {
      "text/plain": [
       "11.0"
      ]
     },
     "execution_count": 84,
     "metadata": {},
     "output_type": "execute_result"
    }
   ],
   "source": [
    "Q1 = np.percentile( eng_sco, 25 )\n",
    "Q2 = np.percentile( eng_sco, 50 )\n",
    "Q3 = np.percentile( eng_sco, 75 )\n",
    "Q3 - Q1"
   ]
  },
  {
   "cell_type": "markdown",
   "metadata": {},
   "source": [
    "# 3. 정규화 \n",
    "- 평균이 0, 편차 1\n",
    "- **편차를 표준편차로 나눈 값**\n",
    "    - 편차/표준편차\n",
    "- 정규화를 하는 이유\n",
    "    - 평균이 30점에서 60점인 경우와 평균이 90 점인 경우 60은 평가가 달라야 하므로 표준화 방법이 필요\n"
   ]
  },
  {
   "cell_type": "code",
   "execution_count": 88,
   "metadata": {},
   "outputs": [],
   "source": [
    "dt = np.array( [1,2,3,4,5])"
   ]
  },
  {
   "cell_type": "code",
   "execution_count": 89,
   "metadata": {},
   "outputs": [
    {
     "data": {
      "text/plain": [
       "array([1, 2, 3, 4, 5])"
      ]
     },
     "execution_count": 89,
     "metadata": {},
     "output_type": "execute_result"
    }
   ],
   "source": [
    "dt"
   ]
  },
  {
   "cell_type": "code",
   "execution_count": 91,
   "metadata": {},
   "outputs": [],
   "source": [
    "res = (dt - dt.mean())/dt.std()"
   ]
  },
  {
   "cell_type": "code",
   "execution_count": 92,
   "metadata": {},
   "outputs": [
    {
     "data": {
      "text/plain": [
       "array([-1.41421356, -0.70710678,  0.        ,  0.70710678,  1.41421356])"
      ]
     },
     "execution_count": 92,
     "metadata": {},
     "output_type": "execute_result"
    }
   ],
   "source": [
    "res "
   ]
  },
  {
   "cell_type": "code",
   "execution_count": 95,
   "metadata": {},
   "outputs": [
    {
     "data": {
      "text/plain": [
       "0.0"
      ]
     },
     "execution_count": 95,
     "metadata": {},
     "output_type": "execute_result"
    }
   ],
   "source": [
    "res.mean()"
   ]
  },
  {
   "cell_type": "code",
   "execution_count": 96,
   "metadata": {},
   "outputs": [
    {
     "data": {
      "text/plain": [
       "0.9999999999999999"
      ]
     },
     "execution_count": 96,
     "metadata": {},
     "output_type": "execute_result"
    }
   ],
   "source": [
    "res.std()"
   ]
  },
  {
   "cell_type": "code",
   "execution_count": 100,
   "metadata": {},
   "outputs": [
    {
     "data": {
      "text/plain": [
       "array([37, 37, 41, 42, 42, 45, 47, 47, 48, 49, 51, 52, 54, 54, 54, 55, 55,\n",
       "       55, 56, 56, 57, 57, 57, 57, 57, 58, 61, 61, 62, 62, 62, 63, 64, 64,\n",
       "       65, 65, 65, 65, 66, 66, 66, 67, 68, 69, 70, 70, 71, 73, 75, 79],\n",
       "      dtype=int64)"
      ]
     },
     "execution_count": 100,
     "metadata": {},
     "output_type": "execute_result"
    }
   ],
   "source": [
    "eng_sco"
   ]
  },
  {
   "cell_type": "code",
   "execution_count": 102,
   "metadata": {},
   "outputs": [
    {
     "data": {
      "text/plain": [
       "array([-2.20382392, -2.20382392, -1.79150888, -1.68843012, -1.68843012,\n",
       "       -1.37919383, -1.17303631, -1.17303631, -1.06995755, -0.96687878,\n",
       "       -0.76072126, -0.6576425 , -0.45148498, -0.45148498, -0.45148498,\n",
       "       -0.34840621, -0.34840621, -0.34840621, -0.24532745, -0.24532745,\n",
       "       -0.14224869, -0.14224869, -0.14224869, -0.14224869, -0.14224869,\n",
       "       -0.03916993,  0.27006636,  0.27006636,  0.37314512,  0.37314512,\n",
       "        0.37314512,  0.47622388,  0.57930264,  0.57930264,  0.6823814 ,\n",
       "        0.6823814 ,  0.6823814 ,  0.6823814 ,  0.78546016,  0.78546016,\n",
       "        0.78546016,  0.88853893,  0.99161769,  1.09469645,  1.19777521,\n",
       "        1.19777521,  1.30085397,  1.5070115 ,  1.71316902,  2.12548406])"
      ]
     },
     "execution_count": 102,
     "metadata": {},
     "output_type": "execute_result"
    }
   ],
   "source": [
    "# 평균이 0이고 편차가 1인 정규화\n",
    "(eng_sco - eng_sco.mean()) / eng_sco.std()"
   ]
  },
  {
   "cell_type": "markdown",
   "metadata": {},
   "source": [
    "### Q. 평균이 50이고 편차가 10이 되도록 정규화"
   ]
  },
  {
   "cell_type": "code",
   "execution_count": 113,
   "metadata": {},
   "outputs": [
    {
     "data": {
      "text/plain": [
       "array([27.96176076, 27.96176076, 32.08491123, 33.11569885, 33.11569885,\n",
       "       36.20806169, 38.26963693, 38.26963693, 39.30042454, 40.33121216,\n",
       "       42.39278739, 43.42357501, 45.48515024, 45.48515024, 45.48515024,\n",
       "       46.51593786, 46.51593786, 46.51593786, 47.54672547, 47.54672547,\n",
       "       48.57751309, 48.57751309, 48.57751309, 48.57751309, 48.57751309,\n",
       "       49.60830071, 52.70066355, 52.70066355, 53.73145117, 53.73145117,\n",
       "       53.73145117, 54.76223879, 55.7930264 , 55.7930264 , 56.82381402,\n",
       "       56.82381402, 56.82381402, 56.82381402, 57.85460164, 57.85460164,\n",
       "       57.85460164, 58.88538925, 59.91617687, 60.94696448, 61.9777521 ,\n",
       "       61.9777521 , 63.00853972, 65.07011495, 67.13169018, 71.25484065])"
      ]
     },
     "execution_count": 113,
     "metadata": {},
     "output_type": "execute_result"
    }
   ],
   "source": [
    "# 평균이 50이고 편차가 10인 정규화\n",
    "z = 50 + 10*(eng_sco - eng_sco.mean()) / eng_sco.std()\n",
    "z"
   ]
  },
  {
   "cell_type": "code",
   "execution_count": 106,
   "metadata": {},
   "outputs": [
    {
     "data": {
      "text/plain": [
       "50.00000000000001"
      ]
     },
     "execution_count": 106,
     "metadata": {},
     "output_type": "execute_result"
    }
   ],
   "source": [
    "z.mean() # 평균 50점으로 표준화"
   ]
  },
  {
   "cell_type": "code",
   "execution_count": 105,
   "metadata": {
    "collapsed": true
   },
   "outputs": [
    {
     "data": {
      "text/html": [
       "<div>\n",
       "<style scoped>\n",
       "    .dataframe tbody tr th:only-of-type {\n",
       "        vertical-align: middle;\n",
       "    }\n",
       "\n",
       "    .dataframe tbody tr th {\n",
       "        vertical-align: top;\n",
       "    }\n",
       "\n",
       "    .dataframe thead th {\n",
       "        text-align: right;\n",
       "    }\n",
       "</style>\n",
       "<table border=\"1\" class=\"dataframe\">\n",
       "  <thead>\n",
       "    <tr style=\"text-align: right;\">\n",
       "      <th></th>\n",
       "      <th>0</th>\n",
       "      <th>1</th>\n",
       "    </tr>\n",
       "  </thead>\n",
       "  <tbody>\n",
       "    <tr>\n",
       "      <th>0</th>\n",
       "      <td>37.0</td>\n",
       "      <td>27.961761</td>\n",
       "    </tr>\n",
       "    <tr>\n",
       "      <th>1</th>\n",
       "      <td>37.0</td>\n",
       "      <td>27.961761</td>\n",
       "    </tr>\n",
       "    <tr>\n",
       "      <th>2</th>\n",
       "      <td>41.0</td>\n",
       "      <td>32.084911</td>\n",
       "    </tr>\n",
       "    <tr>\n",
       "      <th>3</th>\n",
       "      <td>42.0</td>\n",
       "      <td>33.115699</td>\n",
       "    </tr>\n",
       "    <tr>\n",
       "      <th>4</th>\n",
       "      <td>42.0</td>\n",
       "      <td>33.115699</td>\n",
       "    </tr>\n",
       "    <tr>\n",
       "      <th>5</th>\n",
       "      <td>45.0</td>\n",
       "      <td>36.208062</td>\n",
       "    </tr>\n",
       "    <tr>\n",
       "      <th>6</th>\n",
       "      <td>47.0</td>\n",
       "      <td>38.269637</td>\n",
       "    </tr>\n",
       "    <tr>\n",
       "      <th>7</th>\n",
       "      <td>47.0</td>\n",
       "      <td>38.269637</td>\n",
       "    </tr>\n",
       "    <tr>\n",
       "      <th>8</th>\n",
       "      <td>48.0</td>\n",
       "      <td>39.300425</td>\n",
       "    </tr>\n",
       "    <tr>\n",
       "      <th>9</th>\n",
       "      <td>49.0</td>\n",
       "      <td>40.331212</td>\n",
       "    </tr>\n",
       "    <tr>\n",
       "      <th>10</th>\n",
       "      <td>51.0</td>\n",
       "      <td>42.392787</td>\n",
       "    </tr>\n",
       "    <tr>\n",
       "      <th>11</th>\n",
       "      <td>52.0</td>\n",
       "      <td>43.423575</td>\n",
       "    </tr>\n",
       "    <tr>\n",
       "      <th>12</th>\n",
       "      <td>54.0</td>\n",
       "      <td>45.485150</td>\n",
       "    </tr>\n",
       "    <tr>\n",
       "      <th>13</th>\n",
       "      <td>54.0</td>\n",
       "      <td>45.485150</td>\n",
       "    </tr>\n",
       "    <tr>\n",
       "      <th>14</th>\n",
       "      <td>54.0</td>\n",
       "      <td>45.485150</td>\n",
       "    </tr>\n",
       "    <tr>\n",
       "      <th>15</th>\n",
       "      <td>55.0</td>\n",
       "      <td>46.515938</td>\n",
       "    </tr>\n",
       "    <tr>\n",
       "      <th>16</th>\n",
       "      <td>55.0</td>\n",
       "      <td>46.515938</td>\n",
       "    </tr>\n",
       "    <tr>\n",
       "      <th>17</th>\n",
       "      <td>55.0</td>\n",
       "      <td>46.515938</td>\n",
       "    </tr>\n",
       "    <tr>\n",
       "      <th>18</th>\n",
       "      <td>56.0</td>\n",
       "      <td>47.546725</td>\n",
       "    </tr>\n",
       "    <tr>\n",
       "      <th>19</th>\n",
       "      <td>56.0</td>\n",
       "      <td>47.546725</td>\n",
       "    </tr>\n",
       "    <tr>\n",
       "      <th>20</th>\n",
       "      <td>57.0</td>\n",
       "      <td>48.577513</td>\n",
       "    </tr>\n",
       "    <tr>\n",
       "      <th>21</th>\n",
       "      <td>57.0</td>\n",
       "      <td>48.577513</td>\n",
       "    </tr>\n",
       "    <tr>\n",
       "      <th>22</th>\n",
       "      <td>57.0</td>\n",
       "      <td>48.577513</td>\n",
       "    </tr>\n",
       "    <tr>\n",
       "      <th>23</th>\n",
       "      <td>57.0</td>\n",
       "      <td>48.577513</td>\n",
       "    </tr>\n",
       "    <tr>\n",
       "      <th>24</th>\n",
       "      <td>57.0</td>\n",
       "      <td>48.577513</td>\n",
       "    </tr>\n",
       "    <tr>\n",
       "      <th>25</th>\n",
       "      <td>58.0</td>\n",
       "      <td>49.608301</td>\n",
       "    </tr>\n",
       "    <tr>\n",
       "      <th>26</th>\n",
       "      <td>61.0</td>\n",
       "      <td>52.700664</td>\n",
       "    </tr>\n",
       "    <tr>\n",
       "      <th>27</th>\n",
       "      <td>61.0</td>\n",
       "      <td>52.700664</td>\n",
       "    </tr>\n",
       "    <tr>\n",
       "      <th>28</th>\n",
       "      <td>62.0</td>\n",
       "      <td>53.731451</td>\n",
       "    </tr>\n",
       "    <tr>\n",
       "      <th>29</th>\n",
       "      <td>62.0</td>\n",
       "      <td>53.731451</td>\n",
       "    </tr>\n",
       "    <tr>\n",
       "      <th>30</th>\n",
       "      <td>62.0</td>\n",
       "      <td>53.731451</td>\n",
       "    </tr>\n",
       "    <tr>\n",
       "      <th>31</th>\n",
       "      <td>63.0</td>\n",
       "      <td>54.762239</td>\n",
       "    </tr>\n",
       "    <tr>\n",
       "      <th>32</th>\n",
       "      <td>64.0</td>\n",
       "      <td>55.793026</td>\n",
       "    </tr>\n",
       "    <tr>\n",
       "      <th>33</th>\n",
       "      <td>64.0</td>\n",
       "      <td>55.793026</td>\n",
       "    </tr>\n",
       "    <tr>\n",
       "      <th>34</th>\n",
       "      <td>65.0</td>\n",
       "      <td>56.823814</td>\n",
       "    </tr>\n",
       "    <tr>\n",
       "      <th>35</th>\n",
       "      <td>65.0</td>\n",
       "      <td>56.823814</td>\n",
       "    </tr>\n",
       "    <tr>\n",
       "      <th>36</th>\n",
       "      <td>65.0</td>\n",
       "      <td>56.823814</td>\n",
       "    </tr>\n",
       "    <tr>\n",
       "      <th>37</th>\n",
       "      <td>65.0</td>\n",
       "      <td>56.823814</td>\n",
       "    </tr>\n",
       "    <tr>\n",
       "      <th>38</th>\n",
       "      <td>66.0</td>\n",
       "      <td>57.854602</td>\n",
       "    </tr>\n",
       "    <tr>\n",
       "      <th>39</th>\n",
       "      <td>66.0</td>\n",
       "      <td>57.854602</td>\n",
       "    </tr>\n",
       "    <tr>\n",
       "      <th>40</th>\n",
       "      <td>66.0</td>\n",
       "      <td>57.854602</td>\n",
       "    </tr>\n",
       "    <tr>\n",
       "      <th>41</th>\n",
       "      <td>67.0</td>\n",
       "      <td>58.885389</td>\n",
       "    </tr>\n",
       "    <tr>\n",
       "      <th>42</th>\n",
       "      <td>68.0</td>\n",
       "      <td>59.916177</td>\n",
       "    </tr>\n",
       "    <tr>\n",
       "      <th>43</th>\n",
       "      <td>69.0</td>\n",
       "      <td>60.946964</td>\n",
       "    </tr>\n",
       "    <tr>\n",
       "      <th>44</th>\n",
       "      <td>70.0</td>\n",
       "      <td>61.977752</td>\n",
       "    </tr>\n",
       "    <tr>\n",
       "      <th>45</th>\n",
       "      <td>70.0</td>\n",
       "      <td>61.977752</td>\n",
       "    </tr>\n",
       "    <tr>\n",
       "      <th>46</th>\n",
       "      <td>71.0</td>\n",
       "      <td>63.008540</td>\n",
       "    </tr>\n",
       "    <tr>\n",
       "      <th>47</th>\n",
       "      <td>73.0</td>\n",
       "      <td>65.070115</td>\n",
       "    </tr>\n",
       "    <tr>\n",
       "      <th>48</th>\n",
       "      <td>75.0</td>\n",
       "      <td>67.131690</td>\n",
       "    </tr>\n",
       "    <tr>\n",
       "      <th>49</th>\n",
       "      <td>79.0</td>\n",
       "      <td>71.254841</td>\n",
       "    </tr>\n",
       "  </tbody>\n",
       "</table>\n",
       "</div>"
      ],
      "text/plain": [
       "       0          1\n",
       "0   37.0  27.961761\n",
       "1   37.0  27.961761\n",
       "2   41.0  32.084911\n",
       "3   42.0  33.115699\n",
       "4   42.0  33.115699\n",
       "5   45.0  36.208062\n",
       "6   47.0  38.269637\n",
       "7   47.0  38.269637\n",
       "8   48.0  39.300425\n",
       "9   49.0  40.331212\n",
       "10  51.0  42.392787\n",
       "11  52.0  43.423575\n",
       "12  54.0  45.485150\n",
       "13  54.0  45.485150\n",
       "14  54.0  45.485150\n",
       "15  55.0  46.515938\n",
       "16  55.0  46.515938\n",
       "17  55.0  46.515938\n",
       "18  56.0  47.546725\n",
       "19  56.0  47.546725\n",
       "20  57.0  48.577513\n",
       "21  57.0  48.577513\n",
       "22  57.0  48.577513\n",
       "23  57.0  48.577513\n",
       "24  57.0  48.577513\n",
       "25  58.0  49.608301\n",
       "26  61.0  52.700664\n",
       "27  61.0  52.700664\n",
       "28  62.0  53.731451\n",
       "29  62.0  53.731451\n",
       "30  62.0  53.731451\n",
       "31  63.0  54.762239\n",
       "32  64.0  55.793026\n",
       "33  64.0  55.793026\n",
       "34  65.0  56.823814\n",
       "35  65.0  56.823814\n",
       "36  65.0  56.823814\n",
       "37  65.0  56.823814\n",
       "38  66.0  57.854602\n",
       "39  66.0  57.854602\n",
       "40  66.0  57.854602\n",
       "41  67.0  58.885389\n",
       "42  68.0  59.916177\n",
       "43  69.0  60.946964\n",
       "44  70.0  61.977752\n",
       "45  70.0  61.977752\n",
       "46  71.0  63.008540\n",
       "47  73.0  65.070115\n",
       "48  75.0  67.131690\n",
       "49  79.0  71.254841"
      ]
     },
     "execution_count": 105,
     "metadata": {},
     "output_type": "execute_result"
    }
   ],
   "source": [
    "score_df = pd.DataFrame( [eng_sco, z])\n",
    "score_df = score_df.T\n",
    "score_df # z가 50보다 높으면 평균보다 높다는 의미다.\n",
    "# 50점을 기준으로 성적이 어느정도인지 파악할 수 있다"
   ]
  },
  {
   "cell_type": "markdown",
   "metadata": {},
   "source": [
    "# 4. 도수\n",
    "- np.histogram()\n",
    "- pd.cut()\n",
    "- plt.hist()"
   ]
  },
  {
   "cell_type": "markdown",
   "metadata": {},
   "source": [
    "### np.historam 의 범위\n",
    "\n",
    "0  <= r  < 10 <br>\n",
    "10 <= r  < 20 <br>\n",
    "20 <= r  < 30 <br>\n",
    "...<br>\n",
    "90 <= r  <= 100<br>\n"
   ]
  },
  {
   "cell_type": "code",
   "execution_count": 118,
   "metadata": {},
   "outputs": [
    {
     "data": {
      "text/plain": [
       "(array([3, 1, 1, 1, 1, 0, 0, 0, 1, 1], dtype=int64),\n",
       " array([  9. ,  18.1,  27.2,  36.3,  45.4,  54.5,  63.6,  72.7,  81.8,\n",
       "         90.9, 100. ]))"
      ]
     },
     "execution_count": 118,
     "metadata": {},
     "output_type": "execute_result"
    }
   ],
   "source": [
    "s =[ 9, 10, 18,  20, 30, 45,47, 90, 100]\n",
    "np.histogram( s , bins=10 ) # 가장 작은값에서 가장 큰값을 10등분"
   ]
  },
  {
   "cell_type": "code",
   "execution_count": 119,
   "metadata": {},
   "outputs": [
    {
     "data": {
      "text/plain": [
       "(array([1, 2, 1, 1, 2, 0, 0, 0, 0, 2], dtype=int64),\n",
       " array([  0.,  10.,  20.,  30.,  40.,  50.,  60.,  70.,  80.,  90., 100.]))"
      ]
     },
     "execution_count": 119,
     "metadata": {},
     "output_type": "execute_result"
    }
   ],
   "source": [
    "s =[ 9, 10, 18,  20, 30, 45,47, 90, 100]\n",
    "np.histogram( s , bins=10, range=(0,100) ) # 0~100을 10등분"
   ]
  },
  {
   "cell_type": "markdown",
   "metadata": {},
   "source": [
    "### pd.cut 범위\n",
    "0 < r <=10 <br>\n",
    "10< r <=20 <br>\n",
    "20< r <=30 <br>\n",
    "... <br>\n",
    "90< r <=100<br>\n",
    "\n",
    "\n",
    "**주의! numpy histogram과 pd.cut의 범위가 다르다**\n"
   ]
  },
  {
   "cell_type": "code",
   "execution_count": 121,
   "metadata": {},
   "outputs": [
    {
     "data": {
      "text/plain": [
       "0      9\n",
       "1     10\n",
       "2     18\n",
       "3     20\n",
       "4     30\n",
       "5     45\n",
       "6     47\n",
       "7     90\n",
       "8    100\n",
       "dtype: int64"
      ]
     },
     "execution_count": 121,
     "metadata": {},
     "output_type": "execute_result"
    }
   ],
   "source": [
    "sr = pd.Series( s )\n",
    "sr"
   ]
  },
  {
   "cell_type": "code",
   "execution_count": 133,
   "metadata": {},
   "outputs": [
    {
     "data": {
      "text/plain": [
       "(0, 10]      2\n",
       "(10, 20]     2\n",
       "(20, 30]     1\n",
       "(30, 40]     0\n",
       "(40, 50]     2\n",
       "(50, 60]     0\n",
       "(60, 70]     0\n",
       "(70, 80]     0\n",
       "(80, 90]     1\n",
       "(90, 100]    1\n",
       "dtype: int64"
      ]
     },
     "execution_count": 133,
     "metadata": {},
     "output_type": "execute_result"
    }
   ],
   "source": [
    "pd.cut( sr, bins=range(0,101,10) ).value_counts().sort_index()"
   ]
  },
  {
   "cell_type": "code",
   "execution_count": 127,
   "metadata": {},
   "outputs": [
    {
     "data": {
      "text/plain": [
       "<matplotlib.axes._subplots.AxesSubplot at 0x24807a746c8>"
      ]
     },
     "execution_count": 127,
     "metadata": {},
     "output_type": "execute_result"
    },
    {
     "data": {
      "image/png": "[encoded data removed]",
      "text/plain": [
       "<Figure size 432x288 with 1 Axes>"
      ]
     },
     "metadata": {
      "needs_background": "light"
     },
     "output_type": "display_data"
    }
   ],
   "source": [
    "sr.hist(bins=range(0,101,10)) #0부터 100점까지를 10등분"
   ]
  },
  {
   "cell_type": "markdown",
   "metadata": {},
   "source": [
    "# 도수분포표 그리기"
   ]
  },
  {
   "cell_type": "markdown",
   "metadata": {},
   "source": [
    "## 도수, 계급"
   ]
  },
  {
   "cell_type": "code",
   "execution_count": 142,
   "metadata": {},
   "outputs": [
    {
     "data": {
      "image/png": "[encoded data removed]",
      "text/plain": [
       "<Figure size 432x288 with 1 Axes>"
      ]
     },
     "metadata": {
      "needs_background": "light"
     },
     "output_type": "display_data"
    },
    {
     "name": "stdout",
     "output_type": "stream",
     "text": [
      "도수 [1. 2. 1. 1. 2. 0. 0. 0. 0. 2.]\n",
      "계급 [  0  10  20  30  40  50  60  70  80  90 100]\n"
     ]
    }
   ],
   "source": [
    "freq, r, _ = plt.hist( sr , bins=range(0,101,10) ) # 도수와 계급\n",
    "plt.show()\n",
    "print('도수',freq) # 이건 numpy histogram값과 동일하다!!\n",
    "print('계급',r)"
   ]
  },
  {
   "cell_type": "code",
   "execution_count": 146,
   "metadata": {},
   "outputs": [
    {
     "name": "stdout",
     "output_type": "stream",
     "text": [
      "[ 0  0  0  2  8 16 18  6  0  0]\n",
      "[  0.  10.  20.  30.  40.  50.  60.  70.  80.  90. 100.]\n"
     ]
    }
   ],
   "source": [
    "freq, r = np.histogram( eng_sco, bins=10, range=(0,100) )\n",
    "print(freq) # 도수\n",
    "print(r) # 계급"
   ]
  },
  {
   "cell_type": "code",
   "execution_count": 149,
   "metadata": {
    "collapsed": true
   },
   "outputs": [
    {
     "data": {
      "text/html": [
       "<div>\n",
       "<style scoped>\n",
       "    .dataframe tbody tr th:only-of-type {\n",
       "        vertical-align: middle;\n",
       "    }\n",
       "\n",
       "    .dataframe tbody tr th {\n",
       "        vertical-align: top;\n",
       "    }\n",
       "\n",
       "    .dataframe thead th {\n",
       "        text-align: right;\n",
       "    }\n",
       "</style>\n",
       "<table border=\"1\" class=\"dataframe\">\n",
       "  <thead>\n",
       "    <tr style=\"text-align: right;\">\n",
       "      <th></th>\n",
       "      <th>frequency</th>\n",
       "    </tr>\n",
       "    <tr>\n",
       "      <th>class</th>\n",
       "      <th></th>\n",
       "    </tr>\n",
       "  </thead>\n",
       "  <tbody>\n",
       "    <tr>\n",
       "      <th>0~10</th>\n",
       "      <td>0</td>\n",
       "    </tr>\n",
       "    <tr>\n",
       "      <th>10~20</th>\n",
       "      <td>0</td>\n",
       "    </tr>\n",
       "    <tr>\n",
       "      <th>20~30</th>\n",
       "      <td>0</td>\n",
       "    </tr>\n",
       "    <tr>\n",
       "      <th>30~40</th>\n",
       "      <td>2</td>\n",
       "    </tr>\n",
       "    <tr>\n",
       "      <th>40~50</th>\n",
       "      <td>8</td>\n",
       "    </tr>\n",
       "    <tr>\n",
       "      <th>50~60</th>\n",
       "      <td>16</td>\n",
       "    </tr>\n",
       "    <tr>\n",
       "      <th>60~70</th>\n",
       "      <td>18</td>\n",
       "    </tr>\n",
       "    <tr>\n",
       "      <th>70~80</th>\n",
       "      <td>6</td>\n",
       "    </tr>\n",
       "    <tr>\n",
       "      <th>80~90</th>\n",
       "      <td>0</td>\n",
       "    </tr>\n",
       "    <tr>\n",
       "      <th>90~100</th>\n",
       "      <td>0</td>\n",
       "    </tr>\n",
       "  </tbody>\n",
       "</table>\n",
       "</div>"
      ],
      "text/plain": [
       "        frequency\n",
       "class            \n",
       "0~10            0\n",
       "10~20           0\n",
       "20~30           0\n",
       "30~40           2\n",
       "40~50           8\n",
       "50~60          16\n",
       "60~70          18\n",
       "70~80           6\n",
       "80~90           0\n",
       "90~100          0"
      ]
     },
     "execution_count": 149,
     "metadata": {},
     "output_type": "execute_result"
    }
   ],
   "source": [
    "freq_class = [f'{i}~{i+10}' for i in range(0, 100, 10)]\n",
    "freq_dist_df = pd.DataFrame({'frequency':freq},\n",
    "                            index=freq_class)\n",
    "freq_dist_df.index.name = 'class'\n",
    "freq_dist_df"
   ]
  },
  {
   "cell_type": "markdown",
   "metadata": {},
   "source": [
    "## 계급 인덱스 설정"
   ]
  },
  {
   "cell_type": "code",
   "execution_count": 147,
   "metadata": {
    "scrolled": true
   },
   "outputs": [
    {
     "data": {
      "text/html": [
       "<div>\n",
       "<style scoped>\n",
       "    .dataframe tbody tr th:only-of-type {\n",
       "        vertical-align: middle;\n",
       "    }\n",
       "\n",
       "    .dataframe tbody tr th {\n",
       "        vertical-align: top;\n",
       "    }\n",
       "\n",
       "    .dataframe thead th {\n",
       "        text-align: right;\n",
       "    }\n",
       "</style>\n",
       "<table border=\"1\" class=\"dataframe\">\n",
       "  <thead>\n",
       "    <tr style=\"text-align: right;\">\n",
       "      <th></th>\n",
       "      <th>frequency</th>\n",
       "    </tr>\n",
       "    <tr>\n",
       "      <th>class</th>\n",
       "      <th></th>\n",
       "    </tr>\n",
       "  </thead>\n",
       "  <tbody>\n",
       "    <tr>\n",
       "      <th>0~10</th>\n",
       "      <td>0</td>\n",
       "    </tr>\n",
       "    <tr>\n",
       "      <th>10~20</th>\n",
       "      <td>0</td>\n",
       "    </tr>\n",
       "    <tr>\n",
       "      <th>20~30</th>\n",
       "      <td>0</td>\n",
       "    </tr>\n",
       "    <tr>\n",
       "      <th>30~40</th>\n",
       "      <td>2</td>\n",
       "    </tr>\n",
       "    <tr>\n",
       "      <th>40~50</th>\n",
       "      <td>8</td>\n",
       "    </tr>\n",
       "    <tr>\n",
       "      <th>50~60</th>\n",
       "      <td>16</td>\n",
       "    </tr>\n",
       "    <tr>\n",
       "      <th>60~70</th>\n",
       "      <td>18</td>\n",
       "    </tr>\n",
       "    <tr>\n",
       "      <th>70~80</th>\n",
       "      <td>6</td>\n",
       "    </tr>\n",
       "    <tr>\n",
       "      <th>80~90</th>\n",
       "      <td>0</td>\n",
       "    </tr>\n",
       "    <tr>\n",
       "      <th>90~100</th>\n",
       "      <td>0</td>\n",
       "    </tr>\n",
       "  </tbody>\n",
       "</table>\n",
       "</div>"
      ],
      "text/plain": [
       "        frequency\n",
       "class            \n",
       "0~10            0\n",
       "10~20           0\n",
       "20~30           0\n",
       "30~40           2\n",
       "40~50           8\n",
       "50~60          16\n",
       "60~70          18\n",
       "70~80           6\n",
       "80~90           0\n",
       "90~100          0"
      ]
     },
     "execution_count": 147,
     "metadata": {},
     "output_type": "execute_result"
    }
   ],
   "source": [
    "freq_class = [f'{i}~{i+10}' for i in range(0, 100, 10)]\n",
    "freq_dist_df = pd.DataFrame({'frequency':freq},\n",
    "                            index=pd.Index(freq_class,\n",
    "                                           name='class'))\n",
    "freq_dist_df"
   ]
  },
  {
   "cell_type": "markdown",
   "metadata": {},
   "source": [
    "## 계급값\n",
    "- 각계급의 중앙값"
   ]
  },
  {
   "cell_type": "code",
   "execution_count": 151,
   "metadata": {},
   "outputs": [
    {
     "data": {
      "text/plain": [
       "[5, 15, 25, 35, 45, 55, 65, 75, 85, 95]"
      ]
     },
     "execution_count": 151,
     "metadata": {},
     "output_type": "execute_result"
    }
   ],
   "source": [
    "class_value = [(i+(i+10))//2 for i in range(0, 100, 10)]\n",
    "class_value"
   ]
  },
  {
   "cell_type": "markdown",
   "metadata": {},
   "source": [
    "## 상대도수\n",
    "- 각 도수를 도수의 총 합으로 나눈 것"
   ]
  },
  {
   "cell_type": "code",
   "execution_count": 154,
   "metadata": {},
   "outputs": [
    {
     "data": {
      "text/plain": [
       "array([0.  , 0.  , 0.  , 0.04, 0.16, 0.32, 0.36, 0.12, 0.  , 0.  ])"
      ]
     },
     "execution_count": 154,
     "metadata": {},
     "output_type": "execute_result"
    }
   ],
   "source": [
    "rel_freq = freq/freq.sum()\n",
    "rel_freq"
   ]
  },
  {
   "cell_type": "markdown",
   "metadata": {},
   "source": [
    "## 누적 상대 도수\n",
    "- 상대 도수들을 누적하여 더한 도수\n",
    "- np.cumsum()"
   ]
  },
  {
   "cell_type": "code",
   "execution_count": 155,
   "metadata": {},
   "outputs": [
    {
     "data": {
      "text/plain": [
       "array([0.  , 0.  , 0.  , 0.04, 0.2 , 0.52, 0.88, 1.  , 1.  , 1.  ])"
      ]
     },
     "execution_count": 155,
     "metadata": {},
     "output_type": "execute_result"
    }
   ],
   "source": [
    "cum_rel_freq = np.cumsum( rel_freq )\n",
    "cum_rel_freq"
   ]
  },
  {
   "cell_type": "code",
   "execution_count": 156,
   "metadata": {},
   "outputs": [
    {
     "data": {
      "text/html": [
       "<div>\n",
       "<style scoped>\n",
       "    .dataframe tbody tr th:only-of-type {\n",
       "        vertical-align: middle;\n",
       "    }\n",
       "\n",
       "    .dataframe tbody tr th {\n",
       "        vertical-align: top;\n",
       "    }\n",
       "\n",
       "    .dataframe thead th {\n",
       "        text-align: right;\n",
       "    }\n",
       "</style>\n",
       "<table border=\"1\" class=\"dataframe\">\n",
       "  <thead>\n",
       "    <tr style=\"text-align: right;\">\n",
       "      <th></th>\n",
       "      <th>class value</th>\n",
       "      <th>frequency</th>\n",
       "      <th>relative frequency</th>\n",
       "      <th>cumulative relative frequency</th>\n",
       "    </tr>\n",
       "    <tr>\n",
       "      <th>class</th>\n",
       "      <th></th>\n",
       "      <th></th>\n",
       "      <th></th>\n",
       "      <th></th>\n",
       "    </tr>\n",
       "  </thead>\n",
       "  <tbody>\n",
       "    <tr>\n",
       "      <th>0~10</th>\n",
       "      <td>5</td>\n",
       "      <td>0</td>\n",
       "      <td>0.00</td>\n",
       "      <td>0.00</td>\n",
       "    </tr>\n",
       "    <tr>\n",
       "      <th>10~20</th>\n",
       "      <td>15</td>\n",
       "      <td>0</td>\n",
       "      <td>0.00</td>\n",
       "      <td>0.00</td>\n",
       "    </tr>\n",
       "    <tr>\n",
       "      <th>20~30</th>\n",
       "      <td>25</td>\n",
       "      <td>0</td>\n",
       "      <td>0.00</td>\n",
       "      <td>0.00</td>\n",
       "    </tr>\n",
       "    <tr>\n",
       "      <th>30~40</th>\n",
       "      <td>35</td>\n",
       "      <td>2</td>\n",
       "      <td>0.04</td>\n",
       "      <td>0.04</td>\n",
       "    </tr>\n",
       "    <tr>\n",
       "      <th>40~50</th>\n",
       "      <td>45</td>\n",
       "      <td>8</td>\n",
       "      <td>0.16</td>\n",
       "      <td>0.20</td>\n",
       "    </tr>\n",
       "    <tr>\n",
       "      <th>50~60</th>\n",
       "      <td>55</td>\n",
       "      <td>16</td>\n",
       "      <td>0.32</td>\n",
       "      <td>0.52</td>\n",
       "    </tr>\n",
       "    <tr>\n",
       "      <th>60~70</th>\n",
       "      <td>65</td>\n",
       "      <td>18</td>\n",
       "      <td>0.36</td>\n",
       "      <td>0.88</td>\n",
       "    </tr>\n",
       "    <tr>\n",
       "      <th>70~80</th>\n",
       "      <td>75</td>\n",
       "      <td>6</td>\n",
       "      <td>0.12</td>\n",
       "      <td>1.00</td>\n",
       "    </tr>\n",
       "    <tr>\n",
       "      <th>80~90</th>\n",
       "      <td>85</td>\n",
       "      <td>0</td>\n",
       "      <td>0.00</td>\n",
       "      <td>1.00</td>\n",
       "    </tr>\n",
       "    <tr>\n",
       "      <th>90~100</th>\n",
       "      <td>95</td>\n",
       "      <td>0</td>\n",
       "      <td>0.00</td>\n",
       "      <td>1.00</td>\n",
       "    </tr>\n",
       "  </tbody>\n",
       "</table>\n",
       "</div>"
      ],
      "text/plain": [
       "        class value  frequency  relative frequency  \\\n",
       "class                                                \n",
       "0~10              5          0                0.00   \n",
       "10~20            15          0                0.00   \n",
       "20~30            25          0                0.00   \n",
       "30~40            35          2                0.04   \n",
       "40~50            45          8                0.16   \n",
       "50~60            55         16                0.32   \n",
       "60~70            65         18                0.36   \n",
       "70~80            75          6                0.12   \n",
       "80~90            85          0                0.00   \n",
       "90~100           95          0                0.00   \n",
       "\n",
       "        cumulative relative frequency  \n",
       "class                                  \n",
       "0~10                             0.00  \n",
       "10~20                            0.00  \n",
       "20~30                            0.00  \n",
       "30~40                            0.04  \n",
       "40~50                            0.20  \n",
       "50~60                            0.52  \n",
       "60~70                            0.88  \n",
       "70~80                            1.00  \n",
       "80~90                            1.00  \n",
       "90~100                           1.00  "
      ]
     },
     "execution_count": 156,
     "metadata": {},
     "output_type": "execute_result"
    }
   ],
   "source": [
    "freq_dist_df['class value'] = class_value\n",
    "freq_dist_df['relative frequency'] = rel_freq\n",
    "freq_dist_df['cumulative relative frequency'] = cum_rel_freq\n",
    "freq_dist_df = freq_dist_df[['class value', 'frequency',\n",
    "                             'relative frequency', 'cumulative relative frequency']]\n",
    "\n",
    "freq_dist_df"
   ]
  },
  {
   "cell_type": "markdown",
   "metadata": {},
   "source": [
    "# 연습문제\n",
    "- 수학 점수의 도수 분포표를 그리시오"
   ]
  },
  {
   "cell_type": "code",
   "execution_count": 3,
   "metadata": {},
   "outputs": [
    {
     "data": {
      "text/html": [
       "<div>\n",
       "<style scoped>\n",
       "    .dataframe tbody tr th:only-of-type {\n",
       "        vertical-align: middle;\n",
       "    }\n",
       "\n",
       "    .dataframe tbody tr th {\n",
       "        vertical-align: top;\n",
       "    }\n",
       "\n",
       "    .dataframe thead th {\n",
       "        text-align: right;\n",
       "    }\n",
       "</style>\n",
       "<table border=\"1\" class=\"dataframe\">\n",
       "  <thead>\n",
       "    <tr style=\"text-align: right;\">\n",
       "      <th></th>\n",
       "      <th>frequency</th>\n",
       "      <th>class value</th>\n",
       "      <th>relative frequency</th>\n",
       "      <th>cumulative relative frequency</th>\n",
       "    </tr>\n",
       "    <tr>\n",
       "      <th>class</th>\n",
       "      <th></th>\n",
       "      <th></th>\n",
       "      <th></th>\n",
       "      <th></th>\n",
       "    </tr>\n",
       "  </thead>\n",
       "  <tbody>\n",
       "    <tr>\n",
       "      <th>0~10</th>\n",
       "      <td>0.0</td>\n",
       "      <td>5</td>\n",
       "      <td>0.00</td>\n",
       "      <td>0.00</td>\n",
       "    </tr>\n",
       "    <tr>\n",
       "      <th>10~20</th>\n",
       "      <td>0.0</td>\n",
       "      <td>15</td>\n",
       "      <td>0.00</td>\n",
       "      <td>0.00</td>\n",
       "    </tr>\n",
       "    <tr>\n",
       "      <th>20~30</th>\n",
       "      <td>0.0</td>\n",
       "      <td>25</td>\n",
       "      <td>0.00</td>\n",
       "      <td>0.00</td>\n",
       "    </tr>\n",
       "    <tr>\n",
       "      <th>30~40</th>\n",
       "      <td>0.0</td>\n",
       "      <td>35</td>\n",
       "      <td>0.00</td>\n",
       "      <td>0.00</td>\n",
       "    </tr>\n",
       "    <tr>\n",
       "      <th>40~50</th>\n",
       "      <td>0.0</td>\n",
       "      <td>45</td>\n",
       "      <td>0.00</td>\n",
       "      <td>0.00</td>\n",
       "    </tr>\n",
       "    <tr>\n",
       "      <th>50~60</th>\n",
       "      <td>1.0</td>\n",
       "      <td>55</td>\n",
       "      <td>0.02</td>\n",
       "      <td>0.02</td>\n",
       "    </tr>\n",
       "    <tr>\n",
       "      <th>60~70</th>\n",
       "      <td>6.0</td>\n",
       "      <td>65</td>\n",
       "      <td>0.12</td>\n",
       "      <td>0.14</td>\n",
       "    </tr>\n",
       "    <tr>\n",
       "      <th>70~80</th>\n",
       "      <td>16.0</td>\n",
       "      <td>75</td>\n",
       "      <td>0.32</td>\n",
       "      <td>0.46</td>\n",
       "    </tr>\n",
       "    <tr>\n",
       "      <th>80~90</th>\n",
       "      <td>23.0</td>\n",
       "      <td>85</td>\n",
       "      <td>0.46</td>\n",
       "      <td>0.92</td>\n",
       "    </tr>\n",
       "    <tr>\n",
       "      <th>90~100</th>\n",
       "      <td>4.0</td>\n",
       "      <td>95</td>\n",
       "      <td>0.08</td>\n",
       "      <td>1.00</td>\n",
       "    </tr>\n",
       "  </tbody>\n",
       "</table>\n",
       "</div>"
      ],
      "text/plain": [
       "        frequency  class value  relative frequency  \\\n",
       "class                                                \n",
       "0~10          0.0            5                0.00   \n",
       "10~20         0.0           15                0.00   \n",
       "20~30         0.0           25                0.00   \n",
       "30~40         0.0           35                0.00   \n",
       "40~50         0.0           45                0.00   \n",
       "50~60         1.0           55                0.02   \n",
       "60~70         6.0           65                0.12   \n",
       "70~80        16.0           75                0.32   \n",
       "80~90        23.0           85                0.46   \n",
       "90~100        4.0           95                0.08   \n",
       "\n",
       "        cumulative relative frequency  \n",
       "class                                  \n",
       "0~10                             0.00  \n",
       "10~20                            0.00  \n",
       "20~30                            0.00  \n",
       "30~40                            0.00  \n",
       "40~50                            0.00  \n",
       "50~60                            0.02  \n",
       "60~70                            0.14  \n",
       "70~80                            0.46  \n",
       "80~90                            0.92  \n",
       "90~100                           1.00  "
      ]
     },
     "execution_count": 3,
     "metadata": {},
     "output_type": "execute_result"
    },
    {
     "data": {
      "image/png": "[encoded data removed]",
      "text/plain": [
       "<Figure size 432x288 with 1 Axes>"
      ]
     },
     "metadata": {
      "needs_background": "light"
     },
     "output_type": "display_data"
    }
   ],
   "source": [
    "mat = df['mathematics'].values\n",
    "mat = np.sort(mat)\n",
    "freq, c, _ = plt.hist( mat , bins=range(0,101,10))\n",
    "# 도수, 계급\n",
    "\n",
    "# 상대 도수\n",
    "rel_freq = freq/freq.sum()\n",
    "\n",
    "# 누적 상대 도수\n",
    "cum_rel_freq = np.cumsum( rel_freq )\n",
    "\n",
    "# 계급값\n",
    "class_value = [(i+(i+10))//2 for i in range(0, 100, 10)]\n",
    "\n",
    "freq_class = [f'{i}~{i+10}' for i in range(0, 100, 10)]\n",
    "freq_dist_df = pd.DataFrame({'frequency':freq },\n",
    "                            index=pd.Index(freq_class,\n",
    "                                           name='class'))\n",
    "freq_dist_df['class value'] = class_value\n",
    "freq_dist_df['relative frequency'] = rel_freq\n",
    "freq_dist_df['cumulative relative frequency'] = cum_rel_freq\n",
    "\n",
    "# freq_dist_df = freq_dist_df[['class value', 'frequency',\n",
    "#                              'relative frequency', 'cumulative relative frequency']]\n",
    "\n",
    "freq_dist_df"
   ]
  },
  {
   "cell_type": "markdown",
   "metadata": {},
   "source": [
    "## 히스토그램과 누적상대도수 그래프 그리기\n",
    "- 여러 plot 그리기\n",
    "    - fig 객체 이용하기\n",
    "        - add_subplot()\n",
    "        - twinx()\n",
    "            - Create a twin Axes sharing the xaxis\n",
    "            - Create a new Axes instance with an invisible x-axis and an independent y-axis positioned opposite to the original one\n",
    "    "
   ]
  },
  {
   "cell_type": "code",
   "execution_count": 17,
   "metadata": {},
   "outputs": [
    {
     "data": {
      "image/png": "[encoded data removed]",
      "text/plain": [
       "<Figure size 720x432 with 2 Axes>"
      ]
     },
     "metadata": {
      "needs_background": "light"
     },
     "output_type": "display_data"
    }
   ],
   "source": [
    "fig = plt.figure( figsize=(10,6) ) # figsize 설정\n",
    "ax1 = fig.add_subplot()\n",
    "ax2 = ax1.twinx() # ax1과 x축을 공유하는 y축 생성( ax1의 y축에 반대해서 )\n",
    "freq, r, _ = ax1.hist(mat, bins=10, range=(0,100)) # ax1에 히스토그램 추가\n",
    "ax2.plot( r[1:], freq_dist_df['cumulative relative frequency'], 'ro--') # ax2에 누적 상대도수 그래프 추가\n",
    "plt.show()"
   ]
  }
 ],
 "metadata": {
  "kernelspec": {
   "display_name": "Python 3",
   "language": "python",
   "name": "python3"
  },
  "language_info": {
   "codemirror_mode": {
    "name": "ipython",
    "version": 3
   },
   "file_extension": ".py",
   "mimetype": "text/x-python",
   "name": "python",
   "nbconvert_exporter": "python",
   "pygments_lexer": "ipython3",
   "version": "3.7.6"
  }
 },
 "nbformat": 4,
 "nbformat_minor": 4
}
