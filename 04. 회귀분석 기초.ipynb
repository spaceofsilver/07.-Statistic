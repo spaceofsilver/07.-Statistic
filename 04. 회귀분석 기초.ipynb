{
 "cells": [
  {
   "cell_type": "markdown",
   "metadata": {},
   "source": [
    "Jan 14 ,Thr, 2021 "
   ]
  },
  {
   "cell_type": "code",
   "execution_count": 36,
   "metadata": {},
   "outputs": [],
   "source": [
    "import numpy as np\n",
    "import pandas as pd\n",
    "import matplotlib.pyplot as plt\n",
    "import matplotlib\n",
    "\n",
    "matplotlib.rcParams['font.family']='Malgun Gothic'\n",
    "matplotlib.rcParams['axes.unicode_minus'] = False"
   ]
  },
  {
   "cell_type": "markdown",
   "metadata": {},
   "source": [
    "# 인공지능(AI)에서 취하는 방식"
   ]
  },
  {
   "cell_type": "markdown",
   "metadata": {},
   "source": [
    "## Cost(MSE) Test\n",
    "- (실제값 -  예측값)**2"
   ]
  },
  {
   "cell_type": "code",
   "execution_count": 14,
   "metadata": {},
   "outputs": [
    {
     "data": {
      "image/png": "[encoded data removed]",
      "text/plain": [
       "<Figure size 432x288 with 1 Axes>"
      ]
     },
     "metadata": {
      "needs_background": "light"
     },
     "output_type": "display_data"
    }
   ],
   "source": [
    "plt.scatter( x_data, y_data )\n",
    "plt.xlabel( 'x-axis' )\n",
    "plt.ylabel( 'y-axis' )\n",
    "plt.show()"
   ]
  },
  {
   "cell_type": "code",
   "execution_count": 10,
   "metadata": {},
   "outputs": [],
   "source": [
    "x_data = [1,2,3]\n",
    "y_data = [1,2,3]"
   ]
  },
  {
   "cell_type": "markdown",
   "metadata": {},
   "source": [
    "### Cost 함수"
   ]
  },
  {
   "cell_type": "code",
   "execution_count": 15,
   "metadata": {},
   "outputs": [],
   "source": [
    "def cost(x,y,w):\n",
    "    c = 0 \n",
    "    for i in np.arange( len(x) ):\n",
    "        hx = w*x[i]    \n",
    "        # (w가 -1일때의 y값 - 실제 y값)**2\n",
    "        c = c + ((hx) - y[i])**2\n",
    "    return c/len(x)"
   ]
  },
  {
   "cell_type": "code",
   "execution_count": 17,
   "metadata": {},
   "outputs": [
    {
     "data": {
      "text/plain": [
       "array([0, 1, 2])"
      ]
     },
     "execution_count": 17,
     "metadata": {},
     "output_type": "execute_result"
    }
   ],
   "source": [
    "np.arange( len(x_data) )"
   ]
  },
  {
   "cell_type": "code",
   "execution_count": 16,
   "metadata": {},
   "outputs": [
    {
     "name": "stdout",
     "output_type": "stream",
     "text": [
      "18.666666666666668\n"
     ]
    }
   ],
   "source": [
    "print( cost(x_data, y_data, -1) ) # w가 -1 -> 기울기가 -1이라고 생각"
   ]
  },
  {
   "cell_type": "code",
   "execution_count": 18,
   "metadata": {},
   "outputs": [
    {
     "name": "stdout",
     "output_type": "stream",
     "text": [
      "4.666666666666667\n"
     ]
    }
   ],
   "source": [
    "print( cost(x_data, y_data, 0) ) # 1+4+9/3\n",
    "# w = 0이면 x축과 나란히 "
   ]
  },
  {
   "cell_type": "code",
   "execution_count": 19,
   "metadata": {},
   "outputs": [
    {
     "name": "stdout",
     "output_type": "stream",
     "text": [
      "0.0\n"
     ]
    }
   ],
   "source": [
    "print( cost(x_data, y_data, 1) )"
   ]
  },
  {
   "cell_type": "code",
   "execution_count": 20,
   "metadata": {},
   "outputs": [
    {
     "name": "stdout",
     "output_type": "stream",
     "text": [
      "4.666666666666667\n"
     ]
    }
   ],
   "source": [
    "print( cost(x_data, y_data, 2) )"
   ]
  },
  {
   "cell_type": "code",
   "execution_count": 23,
   "metadata": {},
   "outputs": [
    {
     "data": {
      "text/plain": [
       "array([ 1.  ,  3.25,  5.5 ,  7.75, 10.  ])"
      ]
     },
     "execution_count": 23,
     "metadata": {},
     "output_type": "execute_result"
    }
   ],
   "source": [
    "np.linspace( 1,10,5 ) # start, end, 갯수( 간격이 동일하게 )"
   ]
  },
  {
   "cell_type": "code",
   "execution_count": 70,
   "metadata": {
    "collapsed": true
   },
   "outputs": [
    {
     "name": "stdout",
     "output_type": "stream",
     "text": [
      "-3.0 74.66666666666667\n",
      "-2.836734693877551 68.69582118561709\n",
      "-2.673469387755102 62.97376093294461\n",
      "-2.510204081632653 57.500485908649175\n",
      "-2.3469387755102042 52.275996112730816\n",
      "-2.183673469387755 47.3002915451895\n",
      "-2.020408163265306 42.57337220602526\n",
      "-1.8571428571428572 38.095238095238095\n",
      "-1.6938775510204083 33.86588921282799\n",
      "-1.5306122448979593 29.88532555879495\n",
      "-1.3673469387755104 26.15354713313897\n",
      "-1.2040816326530615 22.670553935860067\n",
      "-1.0408163265306123 19.436345966958214\n",
      "-0.8775510204081636 16.450923226433435\n",
      "-0.7142857142857144 13.714285714285717\n",
      "-0.5510204081632657 11.226433430515067\n",
      "-0.38775510204081653 8.98736637512148\n",
      "-0.22448979591836737 6.997084548104957\n",
      "-0.06122448979591866 5.255587949465504\n",
      "0.1020408163265305 3.7628765792031107\n",
      "0.2653061224489792 2.518950437317787\n",
      "0.4285714285714284 1.5238095238095248\n",
      "0.5918367346938771 0.7774538386783302\n",
      "0.7551020408163263 0.27988338192419887\n",
      "0.9183673469387754 0.031098153547133207\n",
      "1.0816326530612246 0.031098153547133207\n",
      "1.2448979591836729 0.2798833819241968\n",
      "1.408163265306122 0.7774538386783268\n",
      "1.5714285714285712 1.5238095238095226\n",
      "1.7346938775510203 2.5189504373177836\n",
      "1.8979591836734686 3.762876579203103\n",
      "2.0612244897959178 5.255587949465494\n",
      "2.224489795918367 6.997084548104951\n",
      "2.387755102040816 8.987366375121475\n",
      "2.5510204081632653 11.226433430515064\n",
      "2.7142857142857135 13.714285714285703\n",
      "2.8775510204081627 16.45092322643342\n",
      "3.040816326530612 19.436345966958203\n",
      "3.204081632653061 22.670553935860056\n",
      "3.3673469387755093 26.153547133138954\n",
      "3.5306122448979584 29.88532555879492\n",
      "3.6938775510204076 33.86588921282798\n",
      "3.8571428571428568 38.09523809523808\n",
      "4.020408163265306 42.57337220602526\n",
      "4.183673469387754 47.30029154518948\n",
      "4.346938775510203 52.27599611273078\n",
      "4.5102040816326525 57.50048590864915\n",
      "4.673469387755102 62.97376093294459\n",
      "4.836734693877551 68.69582118561709\n",
      "5.0 74.66666666666667\n"
     ]
    },
    {
     "data": {
      "image/png": "[encoded data removed]",
      "text/plain": [
       "<Figure size 432x288 with 1 Axes>"
      ]
     },
     "metadata": {
      "needs_background": "light"
     },
     "output_type": "display_data"
    }
   ],
   "source": [
    "plt.title( '[그래프1] w(기울기) 변화에 따른 cost(mse)변화')\n",
    "plt.xlabel('w')\n",
    "plt.ylabel('cost')\n",
    "for w in np.linspace(-3,5,50):\n",
    "    c = cost( x_data, y_data, w)\n",
    "    print( w, c)\n",
    "    plt.plot( w, c, 'ro') # x축, y축\n",
    "plt.show()"
   ]
  },
  {
   "cell_type": "markdown",
   "metadata": {},
   "source": [
    "## 미분(접선의 기울기 )\n",
    "\n",
    "- y = 2   : 기울기 0\n",
    "- y = x   : 기울기 1\n",
    "- y = 2x  : 기울기 2 \n",
    "- y = x^2 : 기울기 2x\n",
    "\n",
    "\n",
    "- **합성 함수**의 **미분**"
   ]
  },
  {
   "cell_type": "markdown",
   "metadata": {},
   "source": [
    "### w(기울기), b(절편)를 구하는 방법\n",
    "- 공식\n",
    "- 학습\n",
    "    - w 구하는 방식\n",
    "        - w 초기값을 부여 ex) w=5\n",
    "            - 딥러닝에선 랜덤하게 준다\n",
    "        - w = w - a(learning mate)*미분\n",
    "        - 이 과정을 반복( 몇 번 반복할지는 정해진게 없다 )"
   ]
  },
  {
   "cell_type": "markdown",
   "metadata": {},
   "source": [
    "### 합성함수의 미분 함수\n",
    "- 인공지능, 딥러닝에서 많이 사용되기 때문에 알아두기"
   ]
  },
  {
   "cell_type": "code",
   "execution_count": 38,
   "metadata": {},
   "outputs": [],
   "source": [
    "# GD : cost함수를 미분한 값 \n",
    "# 그래프1 접선의 기울기 값\n",
    "def gradient_descent( x,y,w ):\n",
    "    c = 0\n",
    "    for i in range(len(x)):\n",
    "        hx = w*x[i] # w에 대한 y값(예측값)\n",
    "        c = c + (hx-y[i]) *x[i] #편미분\n",
    "    return c/len(x)"
   ]
  },
  {
   "cell_type": "code",
   "execution_count": 48,
   "metadata": {},
   "outputs": [],
   "source": [
    "def show_gradient(x,y,w):\n",
    "    for i in range(200): # 학습 횟수(200번)\n",
    "        c = cost(x,y,w) # x,y에 대한 cost 구하기\n",
    "        print(i,c,w)\n",
    "        g = gradient_descent(x,y,w) # cost 미분(기울기 도출)\n",
    "        w = w-0.1*g # w를 줄여나가면서 cost를 최소화하는 w찾기\n",
    "    print('w:' , w )"
   ]
  },
  {
   "cell_type": "code",
   "execution_count": 49,
   "metadata": {},
   "outputs": [
    {
     "name": "stdout",
     "output_type": "stream",
     "text": [
      "0 378.0 10\n",
      "1 107.51999999999998 5.8\n",
      "2 30.583466666666666 3.56\n",
      "3 8.69929718518518 2.365333333333333\n",
      "4 2.47446675489712 1.7281777777777778\n",
      "5 0.7038483213929583 1.3883614814814815\n",
      "6 0.2002057447517751 1.2071261234567903\n",
      "7 0.05694741184050483 1.1104672658436214\n",
      "8 0.016198374923521403 1.0589158751165981\n",
      "9 0.004607537756023892 1.0314218000621858\n",
      "10 0.0013105885172690224 1.0167582933664991\n",
      "11 0.0003727896226898598 1.008937756462133\n",
      "12 0.0001060379371206724 1.004766803446471\n",
      "13 3.0161902114324568e-05 1.002542295171451\n",
      "14 8.579385490296031e-06 1.0013558907581073\n",
      "15 2.4403585394623746e-06 1.0007231417376572\n",
      "16 6.941464290019953e-07 1.000385675593417\n",
      "17 1.9744609536079287e-07 1.0002056936498225\n",
      "18 5.616244490256599e-08 1.0001097032799053\n",
      "19 1.597509543893363e-08 1.0000585084159495\n",
      "20 4.544027147100321e-09 1.0000312044885065\n",
      "21 1.292523277397425e-09 1.0000166423938701\n",
      "22 3.6765106557353845e-10 1.0000088759433974\n",
      "23 1.0457630309680019e-10 1.0000047338364786\n",
      "24 2.974614843652282e-11 1.0000025247127886\n",
      "25 8.461126664488492e-12 1.0000013465134872\n",
      "26 2.4067204744183466e-12 1.0000007181405266\n",
      "27 6.845782681618235e-13 1.0000003830082809\n",
      "28 1.9472448527085553e-13 1.0000002042710832\n",
      "29 5.538829787885448e-14 1.0000001089445776\n",
      "30 1.575489361658054e-14 1.0000000581037747\n",
      "31 4.481391952569267e-15 1.0000000309886798\n",
      "32 1.2747070573345361e-15 1.000000016527296\n",
      "33 3.6258332831368247e-16 1.0000000088145578\n",
      "34 1.0313481853667948e-16 1.0000000047010975\n",
      "35 2.933612341505031e-17 1.000000002507252\n",
      "36 8.344497274162171e-18 1.000000001337201\n",
      "37 2.3735464825145457e-18 1.000000000713174\n",
      "38 6.751422044227725e-19 1.0000000003803595\n",
      "39 1.920405593646558e-19 1.0000000002028584\n",
      "40 5.462493428133877e-20 1.0000000001081912\n",
      "41 1.5537773320496455e-20 1.000000000057702\n",
      "42 4.419657596231936e-21 1.0000000000307745\n",
      "43 1.2571515848923574e-21 1.000000000016413\n",
      "44 3.5758710617043957e-22 1.0000000000087537\n",
      "45 1.0171864166944069e-22 1.0000000000046687\n",
      "46 2.8933990559698716e-23 1.00000000000249\n",
      "47 8.231253103671774e-24 1.000000000001328\n",
      "48 2.341362175139032e-24 1.0000000000007083\n",
      "49 6.658942698258942e-25 1.0000000000003777\n",
      "50 1.891893061517278e-25 1.0000000000002014\n",
      "51 5.389865839559056e-26 1.0000000000001075\n",
      "52 1.5315340044413334e-26 1.0000000000000573\n",
      "53 4.38172789805011e-27 1.0000000000000306\n",
      "54 1.2599423424554927e-27 1.0000000000000164\n",
      "55 3.46129156767911e-28 1.0000000000000087\n",
      "56 1.0355442841244991e-28 1.0000000000000047\n",
      "57 2.677196697093809e-29 1.0000000000000024\n",
      "58 8.283039504820624e-30 1.0000000000000013\n",
      "59 1.791371638939381e-30 1.0000000000000007\n",
      "60 9.203377227578472e-31 1.0000000000000004\n",
      "61 3.4512664603419266e-31 1.0000000000000002\n",
      "62 0.0 1.0\n",
      "63 0.0 1.0\n",
      "64 0.0 1.0\n",
      "65 0.0 1.0\n",
      "66 0.0 1.0\n",
      "67 0.0 1.0\n",
      "68 0.0 1.0\n",
      "69 0.0 1.0\n",
      "70 0.0 1.0\n",
      "71 0.0 1.0\n",
      "72 0.0 1.0\n",
      "73 0.0 1.0\n",
      "74 0.0 1.0\n",
      "75 0.0 1.0\n",
      "76 0.0 1.0\n",
      "77 0.0 1.0\n",
      "78 0.0 1.0\n",
      "79 0.0 1.0\n",
      "80 0.0 1.0\n",
      "81 0.0 1.0\n",
      "82 0.0 1.0\n",
      "83 0.0 1.0\n",
      "84 0.0 1.0\n",
      "85 0.0 1.0\n",
      "86 0.0 1.0\n",
      "87 0.0 1.0\n",
      "88 0.0 1.0\n",
      "89 0.0 1.0\n",
      "90 0.0 1.0\n",
      "91 0.0 1.0\n",
      "92 0.0 1.0\n",
      "93 0.0 1.0\n",
      "94 0.0 1.0\n",
      "95 0.0 1.0\n",
      "96 0.0 1.0\n",
      "97 0.0 1.0\n",
      "98 0.0 1.0\n",
      "99 0.0 1.0\n",
      "100 0.0 1.0\n",
      "101 0.0 1.0\n",
      "102 0.0 1.0\n",
      "103 0.0 1.0\n",
      "104 0.0 1.0\n",
      "105 0.0 1.0\n",
      "106 0.0 1.0\n",
      "107 0.0 1.0\n",
      "108 0.0 1.0\n",
      "109 0.0 1.0\n",
      "110 0.0 1.0\n",
      "111 0.0 1.0\n",
      "112 0.0 1.0\n",
      "113 0.0 1.0\n",
      "114 0.0 1.0\n",
      "115 0.0 1.0\n",
      "116 0.0 1.0\n",
      "117 0.0 1.0\n",
      "118 0.0 1.0\n",
      "119 0.0 1.0\n",
      "120 0.0 1.0\n",
      "121 0.0 1.0\n",
      "122 0.0 1.0\n",
      "123 0.0 1.0\n",
      "124 0.0 1.0\n",
      "125 0.0 1.0\n",
      "126 0.0 1.0\n",
      "127 0.0 1.0\n",
      "128 0.0 1.0\n",
      "129 0.0 1.0\n",
      "130 0.0 1.0\n",
      "131 0.0 1.0\n",
      "132 0.0 1.0\n",
      "133 0.0 1.0\n",
      "134 0.0 1.0\n",
      "135 0.0 1.0\n",
      "136 0.0 1.0\n",
      "137 0.0 1.0\n",
      "138 0.0 1.0\n",
      "139 0.0 1.0\n",
      "140 0.0 1.0\n",
      "141 0.0 1.0\n",
      "142 0.0 1.0\n",
      "143 0.0 1.0\n",
      "144 0.0 1.0\n",
      "145 0.0 1.0\n",
      "146 0.0 1.0\n",
      "147 0.0 1.0\n",
      "148 0.0 1.0\n",
      "149 0.0 1.0\n",
      "150 0.0 1.0\n",
      "151 0.0 1.0\n",
      "152 0.0 1.0\n",
      "153 0.0 1.0\n",
      "154 0.0 1.0\n",
      "155 0.0 1.0\n",
      "156 0.0 1.0\n",
      "157 0.0 1.0\n",
      "158 0.0 1.0\n",
      "159 0.0 1.0\n",
      "160 0.0 1.0\n",
      "161 0.0 1.0\n",
      "162 0.0 1.0\n",
      "163 0.0 1.0\n",
      "164 0.0 1.0\n",
      "165 0.0 1.0\n",
      "166 0.0 1.0\n",
      "167 0.0 1.0\n",
      "168 0.0 1.0\n",
      "169 0.0 1.0\n",
      "170 0.0 1.0\n",
      "171 0.0 1.0\n",
      "172 0.0 1.0\n",
      "173 0.0 1.0\n",
      "174 0.0 1.0\n",
      "175 0.0 1.0\n",
      "176 0.0 1.0\n",
      "177 0.0 1.0\n",
      "178 0.0 1.0\n",
      "179 0.0 1.0\n",
      "180 0.0 1.0\n",
      "181 0.0 1.0\n",
      "182 0.0 1.0\n",
      "183 0.0 1.0\n",
      "184 0.0 1.0\n",
      "185 0.0 1.0\n",
      "186 0.0 1.0\n",
      "187 0.0 1.0\n",
      "188 0.0 1.0\n",
      "189 0.0 1.0\n",
      "190 0.0 1.0\n",
      "191 0.0 1.0\n",
      "192 0.0 1.0\n",
      "193 0.0 1.0\n",
      "194 0.0 1.0\n",
      "195 0.0 1.0\n",
      "196 0.0 1.0\n",
      "197 0.0 1.0\n",
      "198 0.0 1.0\n",
      "199 0.0 1.0\n",
      "w: 1.0\n"
     ]
    }
   ],
   "source": [
    "show_gradient(x_data, y_data, 10)\n",
    "# w가 10일 때의 cost값 = 378\n",
    "# g = w가 10일 때의 미분값(기울기)\n",
    "# w = w-0.1*g -> w가 줄어든다. 여기서  0.1은 learning mate!!!\n",
    "# w가 0에 도달하면 w - 0.1*g 값이 변하지 않는다. \n",
    "# w가 0에 도달했다는 것은 cost를 최소화 하는 지점에 도달했다는 의미\n",
    "# 이 지점을 찾기 위해 learning mate를 자의적으로 줘서 w값을 줄여나가는 방식"
   ]
  },
  {
   "cell_type": "markdown",
   "metadata": {},
   "source": [
    "# 회귀분석"
   ]
  },
  {
   "cell_type": "markdown",
   "metadata": {},
   "source": [
    "## Mean Square Error(MSE)\n",
    "- ( 예측값 - 실제값 )^2 의 평균값\n",
    "    - cost : 실제값과 예측값의 차이\n",
    "- 값이 가장 작도록 회귀선을 긋는 것이 최적"
   ]
  },
  {
   "cell_type": "code",
   "execution_count": 8,
   "metadata": {},
   "outputs": [
    {
     "data": {
      "text/html": [
       "<div>\n",
       "<style scoped>\n",
       "    .dataframe tbody tr th:only-of-type {\n",
       "        vertical-align: middle;\n",
       "    }\n",
       "\n",
       "    .dataframe tbody tr th {\n",
       "        vertical-align: top;\n",
       "    }\n",
       "\n",
       "    .dataframe thead th {\n",
       "        text-align: right;\n",
       "    }\n",
       "</style>\n",
       "<table border=\"1\" class=\"dataframe\">\n",
       "  <thead>\n",
       "    <tr style=\"text-align: right;\">\n",
       "      <th></th>\n",
       "      <th>english</th>\n",
       "      <th>mathematics</th>\n",
       "    </tr>\n",
       "    <tr>\n",
       "      <th>student number</th>\n",
       "      <th></th>\n",
       "      <th></th>\n",
       "    </tr>\n",
       "  </thead>\n",
       "  <tbody>\n",
       "    <tr>\n",
       "      <th>1</th>\n",
       "      <td>42</td>\n",
       "      <td>65</td>\n",
       "    </tr>\n",
       "    <tr>\n",
       "      <th>2</th>\n",
       "      <td>69</td>\n",
       "      <td>80</td>\n",
       "    </tr>\n",
       "    <tr>\n",
       "      <th>3</th>\n",
       "      <td>56</td>\n",
       "      <td>63</td>\n",
       "    </tr>\n",
       "    <tr>\n",
       "      <th>4</th>\n",
       "      <td>41</td>\n",
       "      <td>63</td>\n",
       "    </tr>\n",
       "    <tr>\n",
       "      <th>5</th>\n",
       "      <td>57</td>\n",
       "      <td>76</td>\n",
       "    </tr>\n",
       "    <tr>\n",
       "      <th>6</th>\n",
       "      <td>48</td>\n",
       "      <td>60</td>\n",
       "    </tr>\n",
       "  </tbody>\n",
       "</table>\n",
       "</div>"
      ],
      "text/plain": [
       "                english  mathematics\n",
       "student number                      \n",
       "1                    42           65\n",
       "2                    69           80\n",
       "3                    56           63\n",
       "4                    41           63\n",
       "5                    57           76\n",
       "6                    48           60"
      ]
     },
     "execution_count": 8,
     "metadata": {},
     "output_type": "execute_result"
    }
   ],
   "source": [
    "df = pd.read_csv('../data/data3/ch2_scores_em.csv',\n",
    "                 index_col='student number')\n",
    "df.head(6)"
   ]
  },
  {
   "cell_type": "code",
   "execution_count": 7,
   "metadata": {},
   "outputs": [
    {
     "data": {
      "image/png": "[encoded data removed]",
      "text/plain": [
       "<Figure size 432x288 with 1 Axes>"
      ]
     },
     "metadata": {
      "needs_background": "light"
     },
     "output_type": "display_data"
    }
   ],
   "source": [
    "plt.scatter( df['english'], df['mathematics'])\n",
    "plt.xlabel('english')\n",
    "plt.ylabel('mathematics')\n",
    "plt.show()"
   ]
  },
  {
   "cell_type": "markdown",
   "metadata": {},
   "source": [
    "# Scipy로 도출\n",
    "- 연립방정식 공식으로 도출된 함수\n",
    "- 트레이닝을 통해 도출된 선형회귀의 기울기, 절편값을 도출한다"
   ]
  },
  {
   "cell_type": "code",
   "execution_count": 50,
   "metadata": {},
   "outputs": [],
   "source": [
    "import scipy.stats as st"
   ]
  },
  {
   "cell_type": "code",
   "execution_count": 54,
   "metadata": {},
   "outputs": [
    {
     "data": {
      "text/plain": [
       "LinregressResult(slope=0.6214230159505968, intercept=42.601324328804154, rvalue=0.7237414863069244, pvalue=2.8760870522821355e-09, stderr=0.08552186247949062)"
      ]
     },
     "execution_count": 54,
     "metadata": {},
     "output_type": "execute_result"
    }
   ],
   "source": [
    "res = st.linregress( df['english'], df['mathematics'])\n",
    "res"
   ]
  },
  {
   "cell_type": "code",
   "execution_count": 60,
   "metadata": {},
   "outputs": [
    {
     "name": "stdout",
     "output_type": "stream",
     "text": [
      "기울기(w) 0.6214230159505968\n",
      "y절편(b) 42.601324328804154\n",
      "상관계수 0.7237414863069244\n",
      "p-value 2.8760870522821355e-09\n",
      "표준오차 0.08552186247949062\n"
     ]
    }
   ],
   "source": [
    "print( '기울기(w)'   ,res.slope )\n",
    "print( 'y절편(b)'    ,res.intercept )\n",
    "print( '상관계수'  ,res.rvalue )\n",
    "print( 'p-value'   ,res.pvalue )\n",
    "print( '표준오차'  ,res.stderr )"
   ]
  },
  {
   "cell_type": "markdown",
   "metadata": {},
   "source": [
    "#### 귀무가설(H0) \n",
    "- 영어점수와 수학점수 간에 연관성이 없다\n",
    "-기울기가 0\n",
    "\n",
    "#### 대립가설(H1)  \n",
    "- 영어점수와 수학점수 간에 연관성이 있다\n",
    "- 기울기가 0이 아니다\n",
    "\n",
    "\n",
    "- 결론: 회귀계수값( w,b ) 의미가 있는지 없는지를 파악하는 과정\n",
    "    - p-value가 0.05보다 작으면 귀무가설을 기각, 대립가설을 채택한다.\n",
    "        - 회귀계수값 w,b가 예측값을 결정하는 선형함수로 사용될 수 있다.\n",
    "    - p-value가 0.05보다 크면 귀무가설을 채택한다. "
   ]
  },
  {
   "cell_type": "markdown",
   "metadata": {},
   "source": [
    "### Q. 영어점수가 70점이면 수학점수는?"
   ]
  },
  {
   "cell_type": "code",
   "execution_count": 65,
   "metadata": {},
   "outputs": [
    {
     "data": {
      "text/plain": [
       "86.10093544534593"
      ]
     },
     "execution_count": 65,
     "metadata": {},
     "output_type": "execute_result"
    }
   ],
   "source": [
    "res.slope*70 + res.intercept"
   ]
  },
  {
   "cell_type": "code",
   "execution_count": 68,
   "metadata": {},
   "outputs": [
    {
     "data": {
      "image/png": "[encoded data removed]",
      "text/plain": [
       "<Figure size 432x288 with 1 Axes>"
      ]
     },
     "metadata": {
      "needs_background": "light"
     },
     "output_type": "display_data"
    }
   ],
   "source": [
    "# 선형회귀선 라인차트로 추가하기\n",
    "plt.scatter( df['english'], df['mathematics'])\n",
    "plt.title('영어점수와 수학점수의 scatter차트 및 선형회귀')\n",
    "plt.xlabel('english')\n",
    "plt.ylabel('mathematics')\n",
    "lm = res.slope*df['english'] + res.intercept\n",
    "plt.plot( df['english'], lm, 'r-.' ) # x축, y축\n",
    "plt.show()"
   ]
  }
 ],
 "metadata": {
  "kernelspec": {
   "display_name": "Python 3",
   "language": "python",
   "name": "python3"
  },
  "language_info": {
   "codemirror_mode": {
    "name": "ipython",
    "version": 3
   },
   "file_extension": ".py",
   "mimetype": "text/x-python",
   "name": "python",
   "nbconvert_exporter": "python",
   "pygments_lexer": "ipython3",
   "version": "3.7.6"
  }
 },
 "nbformat": 4,
 "nbformat_minor": 4
}
