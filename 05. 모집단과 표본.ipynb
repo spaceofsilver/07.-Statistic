{
 "cells": [
  {
   "cell_type": "markdown",
   "metadata": {},
   "source": [
    "Jan 14 ,Thr, 2021 "
   ]
  },
  {
   "cell_type": "code",
   "execution_count": 1,
   "metadata": {},
   "outputs": [],
   "source": [
    "import numpy as np\n",
    "import pandas as pd\n",
    "import matplotlib.pyplot as plt\n",
    "import matplotlib\n",
    "\n",
    "matplotlib.rcParams['font.family']='Malgun Gothic'\n",
    "matplotlib.rcParams['axes.unicode_minus'] = False"
   ]
  },
  {
   "cell_type": "markdown",
   "metadata": {},
   "source": [
    "# 개념\n",
    "### 모집단(population)\n",
    "- **빅데이터**는 **population**을 가지고 있다\n",
    "- 모집단 분석을 진행할 수 있음\n",
    "- 모평균(mu), 모분산(sigma^2)\n",
    "\n",
    "\n",
    "### 표본(sample)\n",
    "- **random**하게 추출해서 모집단을 **estimate**\n",
    "- 추정(추측)통계\n",
    "    - 표본집단을 통해 모집단의 평균, 편차를 추정\n",
    "    - 표본평균(확률변수, x-bar), 표본분산(s^2), \n",
    "    - 표본평균의 평균(E(x-bar)=m), 표본평균의 분산(VAR(x-bar) = sigma^2/n\n",
    "\n",
    "\n",
    "### 비편향 표본분산\n",
    "- sigma^2/n-1\n",
    "\n",
    "\n",
    "### 자유도(degrees of freedom)\n",
    "- 통계적 추정을 할 때 표본자료 중 모집단에 대한 정보를 주는 독립적인 자료의 수\n",
    "- 왜 n-1인가?\n",
    "    - 다음의 자료를 살펴보자.\n",
    "\n",
    "        10 14 12 18 16\n",
    "\n",
    "        이 자료의 합계는 70이고, 평균은 14이다. 우리는 평균이 14임을 알고 있으므로 만약 위의 숫자 중 하나를 모르더라도 그 숫자를 찾아낼 수 있다. 마지막 숫자 16을 모르고 평균이 14임을 안다고 가정하자. 평균이 14이면 숫자들의 합계가 70인 것도 알 수 있다. 그리고 나머지 4개의 숫자가 각각 10, 14, 12, 18이므로 전체 합계에서 위 4개의 숫자를 빼면 마지막 숫자는 16이라는 것을 알 수 있다.\n",
    "\n",
    "        그러므로 표본평균 값을 알고 있으면 전체 자료 중 **자유롭게 값을 취할 수 있는 관찰치의 개수는 4개**인 것이다.\n",
    "\n"
   ]
  },
  {
   "cell_type": "code",
   "execution_count": 3,
   "metadata": {},
   "outputs": [
    {
     "data": {
      "text/plain": [
       "array([76, 55, 80, 80, 74, 61, 81, 76, 23, 80], dtype=int64)"
      ]
     },
     "execution_count": 3,
     "metadata": {},
     "output_type": "execute_result"
    }
   ],
   "source": [
    "df = pd.read_csv('../data/data3/ch4_scores400.csv')\n",
    "scores = np.array(df['score']) # df['score'].values #시리즈의 속성인 values를 사용해도 ok -> ndarray\n",
    "scores[:10] # ndarray객체"
   ]
  },
  {
   "cell_type": "code",
   "execution_count": 229,
   "metadata": {},
   "outputs": [
    {
     "data": {
      "text/html": [
       "<div>\n",
       "<style scoped>\n",
       "    .dataframe tbody tr th:only-of-type {\n",
       "        vertical-align: middle;\n",
       "    }\n",
       "\n",
       "    .dataframe tbody tr th {\n",
       "        vertical-align: top;\n",
       "    }\n",
       "\n",
       "    .dataframe thead th {\n",
       "        text-align: right;\n",
       "    }\n",
       "</style>\n",
       "<table border=\"1\" class=\"dataframe\">\n",
       "  <thead>\n",
       "    <tr style=\"text-align: right;\">\n",
       "      <th></th>\n",
       "      <th>score</th>\n",
       "    </tr>\n",
       "  </thead>\n",
       "  <tbody>\n",
       "    <tr>\n",
       "      <th>count</th>\n",
       "      <td>400.000000</td>\n",
       "    </tr>\n",
       "    <tr>\n",
       "      <th>mean</th>\n",
       "      <td>69.530000</td>\n",
       "    </tr>\n",
       "    <tr>\n",
       "      <th>std</th>\n",
       "      <td>14.393994</td>\n",
       "    </tr>\n",
       "    <tr>\n",
       "      <th>min</th>\n",
       "      <td>23.000000</td>\n",
       "    </tr>\n",
       "    <tr>\n",
       "      <th>25%</th>\n",
       "      <td>60.000000</td>\n",
       "    </tr>\n",
       "    <tr>\n",
       "      <th>50%</th>\n",
       "      <td>69.000000</td>\n",
       "    </tr>\n",
       "    <tr>\n",
       "      <th>75%</th>\n",
       "      <td>80.000000</td>\n",
       "    </tr>\n",
       "    <tr>\n",
       "      <th>max</th>\n",
       "      <td>100.000000</td>\n",
       "    </tr>\n",
       "  </tbody>\n",
       "</table>\n",
       "</div>"
      ],
      "text/plain": [
       "            score\n",
       "count  400.000000\n",
       "mean    69.530000\n",
       "std     14.393994\n",
       "min     23.000000\n",
       "25%     60.000000\n",
       "50%     69.000000\n",
       "75%     80.000000\n",
       "max    100.000000"
      ]
     },
     "execution_count": 229,
     "metadata": {},
     "output_type": "execute_result"
    }
   ],
   "source": [
    "df.describe()"
   ]
  },
  {
   "cell_type": "code",
   "execution_count": 230,
   "metadata": {},
   "outputs": [
    {
     "data": {
      "text/plain": [
       "69.53"
      ]
     },
     "execution_count": 230,
     "metadata": {},
     "output_type": "execute_result"
    }
   ],
   "source": [
    "scores.mean() #모평균"
   ]
  },
  {
   "cell_type": "code",
   "execution_count": 6,
   "metadata": {},
   "outputs": [
    {
     "data": {
      "text/plain": [
       "400"
      ]
     },
     "execution_count": 6,
     "metadata": {},
     "output_type": "execute_result"
    }
   ],
   "source": [
    "len(df)"
   ]
  },
  {
   "cell_type": "markdown",
   "metadata": {},
   "source": [
    "## 임의로 표본 추출\n",
    "- np.random.choice"
   ]
  },
  {
   "cell_type": "code",
   "execution_count": 59,
   "metadata": {},
   "outputs": [
    {
     "data": {
      "text/plain": [
       "array([5, 3, 6])"
      ]
     },
     "execution_count": 59,
     "metadata": {},
     "output_type": "execute_result"
    }
   ],
   "source": [
    "np.random.choice([1,2,3,4,54,5,6,6,7], 3, replace =True) # 복원추출"
   ]
  },
  {
   "cell_type": "code",
   "execution_count": 107,
   "metadata": {},
   "outputs": [
    {
     "name": "stdout",
     "output_type": "stream",
     "text": [
      "[49 60 72 86 52 61 77 91 80 56 69 67 90 56 75 79 60 79 68 81]\n",
      "70.4\n"
     ]
    }
   ],
   "source": [
    "np.random.seed(0) # seed를 주면 타인과 같은 랜덤값이 나온다. -> 강사님과 그래프와 표 비교하기 위해\n",
    "sample = np.random.choice(scores, size=20 )\n",
    "print( sample )\n",
    "print( sample.mean() ) # 표본 평균"
   ]
  },
  {
   "cell_type": "code",
   "execution_count": 109,
   "metadata": {},
   "outputs": [
    {
     "data": {
      "text/plain": [
       "150.34000000000003"
      ]
     },
     "execution_count": 109,
     "metadata": {},
     "output_type": "execute_result"
    }
   ],
   "source": [
    "sample.var(ddof=0) # np.var( sample ) \n",
    "# ddof=0이기 때문에 편향 표본분산 (n=20개로 나로 나눔)"
   ]
  },
  {
   "cell_type": "code",
   "execution_count": 110,
   "metadata": {},
   "outputs": [
    {
     "data": {
      "text/plain": [
       "12.261321299109653"
      ]
     },
     "execution_count": 110,
     "metadata": {},
     "output_type": "execute_result"
    }
   ],
   "source": [
    "sample.std( ddof=0 ) # np.ste( sample )\n",
    "# ddof=0이기 때문에 편향 표본편차 (n=20개로 나로 나눔)"
   ]
  },
  {
   "cell_type": "code",
   "execution_count": 111,
   "metadata": {},
   "outputs": [
    {
     "data": {
      "text/plain": [
       "158.25263157894742"
      ]
     },
     "execution_count": 111,
     "metadata": {},
     "output_type": "execute_result"
    }
   ],
   "source": [
    "sample.var( ddof=1 ) # 비편향 표본 분산( 자유도(n-1)적용 )"
   ]
  },
  {
   "cell_type": "code",
   "execution_count": 116,
   "metadata": {},
   "outputs": [
    {
     "name": "stdout",
     "output_type": "stream",
     "text": [
      "0 표본평균:  70.7\n",
      "1 표본평균:  71.9\n",
      "2 표본평균:  71.25\n",
      "3 표본평균:  67.4\n",
      "4 표본평균:  67.7\n"
     ]
    }
   ],
   "source": [
    "for i in range(5):\n",
    "    sample1 = np.random.choice( scores, 20 )\n",
    "    print( i,  '표본평균: ', sample1.mean() ) # 랜덤하게 표본추출 5번해서 각각의 표본 평균을 구함"
   ]
  },
  {
   "cell_type": "markdown",
   "metadata": {},
   "source": [
    "### histogram\n",
    "- density : 상대도수값으로 보여줌\n",
    "    - 상대도수: 각 도수 값/ 도수 총합\n",
    "    - False : y축에 도수값 기준"
   ]
  },
  {
   "cell_type": "markdown",
   "metadata": {},
   "source": [
    "### 모집단 분포"
   ]
  },
  {
   "cell_type": "code",
   "execution_count": 130,
   "metadata": {},
   "outputs": [
    {
     "data": {
      "image/png": "[encoded data removed]",
      "text/plain": [
       "<Figure size 432x288 with 1 Axes>"
      ]
     },
     "metadata": {
      "needs_background": "light"
     },
     "output_type": "display_data"
    }
   ],
   "source": [
    "plt.hist(scores, bins=100, range=(0,100), density=True )\n",
    "plt.xlim( scores.min() ,100 )\n",
    "plt.xlabel( 'score' )\n",
    "plt.ylabel( 'relative frequency' )\n",
    "plt.title( 'Relative frequency of data \"Scores\" ')\n",
    "plt.show()"
   ]
  },
  {
   "cell_type": "markdown",
   "metadata": {},
   "source": [
    "### 표본집단 분포\n",
    "- 표본 사이즈 10000개"
   ]
  },
  {
   "cell_type": "code",
   "execution_count": 233,
   "metadata": {},
   "outputs": [
    {
     "data": {
      "image/png": "[encoded data removed]",
      "text/plain": [
       "<Figure size 432x288 with 1 Axes>"
      ]
     },
     "metadata": {
      "needs_background": "light"
     },
     "output_type": "display_data"
    }
   ],
   "source": [
    "sample2 = np.random.choice( scores, 10000 ) \n",
    "plt.hist( sample2, bins=100 ,range=(0,100), density=True )\n",
    "plt.xlabel( 'score' )\n",
    "plt.ylabel( 'relative frequency' )\n",
    "plt.title( 'Relative frequency of data \"Scores\" ')\n",
    "plt.show()"
   ]
  },
  {
   "cell_type": "markdown",
   "metadata": {},
   "source": [
    "### [결과1] sample size가 크면 모집단의 분포와 가까워진다"
   ]
  },
  {
   "cell_type": "markdown",
   "metadata": {},
   "source": [
    "### 표본평균\n",
    "- 모집단\n",
    "    - sample1 (20개의 sample).mean()\n",
    "    - sample2 (20개의 sample).mean()<br>\n",
    "    ...\n",
    "    - sample100 (20개의 sample).mean()"
   ]
  },
  {
   "cell_type": "code",
   "execution_count": 167,
   "metadata": {},
   "outputs": [],
   "source": [
    "import math"
   ]
  },
  {
   "cell_type": "code",
   "execution_count": 238,
   "metadata": {},
   "outputs": [],
   "source": [
    "np.random.seed(0)\n",
    "n = 20 # sample size\n",
    "n_sample = 100 # 표본집단 갯수\n",
    "# 100번 반복하면서 [20개를 추출하는 표본집단의 평균 생성]\n",
    "sample_mean =  np.array( [np.random.choice(scores, n).mean() for _ in range(n_sample)] )"
   ]
  },
  {
   "cell_type": "code",
   "execution_count": 239,
   "metadata": {},
   "outputs": [
    {
     "data": {
      "text/plain": [
       "array([70.4 , 72.45, 63.7 , 66.05, 71.7 , 74.15, 70.7 , 71.9 , 71.25,\n",
       "       67.4 , 67.7 , 69.15, 69.5 , 71.35, 69.4 , 71.5 , 70.65, 69.95,\n",
       "       68.8 , 69.15, 71.25, 67.85, 73.1 , 75.15, 73.95, 67.4 , 67.45,\n",
       "       70.8 , 66.45, 66.5 , 68.8 , 67.1 , 72.65, 73.85, 73.  , 66.15,\n",
       "       65.15, 72.8 , 72.9 , 62.2 , 67.4 , 65.75, 64.2 , 70.1 , 69.9 ,\n",
       "       69.35, 67.  , 72.7 , 65.1 , 73.7 , 67.45, 74.45, 73.55, 71.45,\n",
       "       70.5 , 67.75, 74.85, 77.25, 69.7 , 64.3 , 74.45, 72.85, 68.9 ,\n",
       "       73.85, 66.7 , 67.7 , 68.05, 72.85, 68.1 , 64.7 , 70.15, 66.  ,\n",
       "       67.8 , 69.1 , 70.45, 71.8 , 63.6 , 74.1 , 70.75, 68.9 , 70.35,\n",
       "       65.1 , 62.95, 73.85, 66.7 , 68.2 , 66.9 , 75.05, 66.4 , 69.9 ,\n",
       "       73.55, 71.15, 68.85, 66.35, 68.1 , 70.05, 67.35, 68.6 , 68.5 ,\n",
       "       73.25])"
      ]
     },
     "execution_count": 239,
     "metadata": {},
     "output_type": "execute_result"
    }
   ],
   "source": [
    "# 표본 평균들의 집합\n",
    "\n",
    "sample_mean # 표본집단 100개의 20개 표본들의 평균"
   ]
  },
  {
   "cell_type": "markdown",
   "metadata": {},
   "source": [
    "### 1. 평균 비교"
   ]
  },
  {
   "cell_type": "code",
   "execution_count": 240,
   "metadata": {},
   "outputs": [
    {
     "data": {
      "text/plain": [
       "69.59750000000001"
      ]
     },
     "execution_count": 240,
     "metadata": {},
     "output_type": "execute_result"
    }
   ],
   "source": [
    "# 표본평균의 평균\n",
    "sample_mean.mean() # E(x-bar)"
   ]
  },
  {
   "cell_type": "code",
   "execution_count": 241,
   "metadata": {},
   "outputs": [
    {
     "data": {
      "text/plain": [
       "69.53"
      ]
     },
     "execution_count": 241,
     "metadata": {},
     "output_type": "execute_result"
    }
   ],
   "source": [
    "# 모집단의 평균(모평균)\n",
    "scores.mean()"
   ]
  },
  {
   "cell_type": "markdown",
   "metadata": {},
   "source": [
    "### [도출1] 모집단의 평균과 표본평균의 평균값이 근사함"
   ]
  },
  {
   "cell_type": "markdown",
   "metadata": {},
   "source": [
    "### 2. 분산 비교"
   ]
  },
  {
   "cell_type": "code",
   "execution_count": 242,
   "metadata": {},
   "outputs": [
    {
     "data": {
      "text/plain": [
       "206.6691"
      ]
     },
     "execution_count": 242,
     "metadata": {},
     "output_type": "execute_result"
    }
   ],
   "source": [
    "# 모분산\n",
    "scores.var()"
   ]
  },
  {
   "cell_type": "code",
   "execution_count": 244,
   "metadata": {},
   "outputs": [
    {
     "data": {
      "text/plain": [
       "10.050268749999997"
      ]
     },
     "execution_count": 244,
     "metadata": {},
     "output_type": "execute_result"
    }
   ],
   "source": [
    "# 표본평균의 분산\n",
    "sample_mean.var()"
   ]
  },
  {
   "cell_type": "code",
   "execution_count": 245,
   "metadata": {},
   "outputs": [
    {
     "data": {
      "text/plain": [
       "10.333454999999999"
      ]
     },
     "execution_count": 245,
     "metadata": {},
     "output_type": "execute_result"
    }
   ],
   "source": [
    "# 표본평균의 분산\n",
    "scores.var()/n\n",
    "#  20개 집단에 대한 분산을 알고 싶기 때문에 n으로 나눠줌"
   ]
  },
  {
   "cell_type": "markdown",
   "metadata": {},
   "source": [
    "### 3. 편차 비교"
   ]
  },
  {
   "cell_type": "code",
   "execution_count": 251,
   "metadata": {},
   "outputs": [
    {
     "data": {
      "text/plain": [
       "3.170215883816116"
      ]
     },
     "execution_count": 251,
     "metadata": {},
     "output_type": "execute_result"
    }
   ],
   "source": [
    "# 표본평균의 편차(SEM: Standard Error Mean)\n",
    "sample_mean.std()"
   ]
  },
  {
   "cell_type": "code",
   "execution_count": 252,
   "metadata": {},
   "outputs": [
    {
     "data": {
      "text/plain": [
       "3.2145691779770424"
      ]
     },
     "execution_count": 252,
     "metadata": {},
     "output_type": "execute_result"
    }
   ],
   "source": [
    "# 표본평균의 편차\n",
    "scores.std()/math.sqrt(n)"
   ]
  },
  {
   "cell_type": "markdown",
   "metadata": {},
   "source": [
    "### [도출2] 모집단의 편차와 표본평균의 편차가 근사함"
   ]
  },
  {
   "cell_type": "markdown",
   "metadata": {},
   "source": [
    "### [결과2] 표본의 개수(n)가 충분히 많으면 모집단에 가까워진다"
   ]
  },
  {
   "cell_type": "markdown",
   "metadata": {},
   "source": [
    "# 모평균 추정\n",
    "- n개를 임의로 표본 추출\n",
    "- n >= 30\n",
    "- 모평균, 모편차\n",
    "<br>\n",
    "$ \\bar{X} -k * \\dfrac{ \\sigma }{ \\sqrt{n} } \\le m \\le \\bar{X} +k * \\dfrac{ \\sigma }{ \\sqrt{n} }   $ \n",
    "\n",
    "    - k:신뢰도 상수\n",
    "<br>\n",
    "- 표본갯수가 30개 이상이면 모표준편차와 표준편차를 동일한 것으로 본다\n",
    "\n",
    "\n",
    "$ s = \\sigma $\n",
    "\n",
    "\n",
    "## 신뢰구간\n",
    "- 1.96(95%신뢰도), 2.58(99%신뢰도)\n",
    "\n",
    "\n",
    "## 평균의 표준오차(standard error of the mean, SEM)\n",
    "$ \\dfrac{ \\sigma }{ \\sqrt{n} } $\n",
    "- 모집단의 표준편차를 sqrt(n)으로 나눈 것"
   ]
  },
  {
   "cell_type": "code",
   "execution_count": 253,
   "metadata": {},
   "outputs": [
    {
     "name": "stdout",
     "output_type": "stream",
     "text": [
      "모평균 69.53 \n",
      "표본평균 70.36666666666666 \n",
      "모편차 14.375990400664575 \n",
      "표본편차 12.504621367940556\n"
     ]
    }
   ],
   "source": [
    "n = 30\n",
    "sample2 = np.random.choice( scores, n )\n",
    "s_mean = sample2.mean()  # 표본평균\n",
    "s_std = sample2.std() # 표본편차\n",
    "print(    \n",
    "        '모평균', scores.mean(), '\\n'\n",
    "        '표본평균', s_mean, '\\n'\n",
    "        '모편차', scores.std(), '\\n'\n",
    "        '표본편차', s_std\n",
    "     )"
   ]
  },
  {
   "cell_type": "code",
   "execution_count": 255,
   "metadata": {},
   "outputs": [
    {
     "data": {
      "text/plain": [
       "array([91, 74, 91, 70, 67, 68, 83, 78, 57, 82, 55, 83, 79, 84, 72, 58, 72,\n",
       "       65, 87, 45, 43, 81, 79, 55, 68, 61, 69, 63, 57, 74], dtype=int64)"
      ]
     },
     "execution_count": 255,
     "metadata": {},
     "output_type": "execute_result"
    }
   ],
   "source": [
    "sample2"
   ]
  },
  {
   "cell_type": "code",
   "execution_count": 197,
   "metadata": {},
   "outputs": [
    {
     "name": "stdout",
     "output_type": "stream",
     "text": [
      "69.54973118863967\n",
      "68.78895123710448\n"
     ]
    }
   ],
   "source": [
    "print( s_mean - 1.96*( s_std/math.sqrt(n) ) ) # 표본편차\n",
    "print( s_mean - 1.96*( scores.std()/math.sqrt(n) )  ) #모편차\n",
    "# 일반적으로 모집단의 표준편차를 모르기때문에 표본편차를 사용"
   ]
  },
  {
   "cell_type": "markdown",
   "metadata": {},
   "source": [
    "### 신뢰구간 구하기(95%신뢰구간)"
   ]
  },
  {
   "cell_type": "code",
   "execution_count": 193,
   "metadata": {},
   "outputs": [
    {
     "name": "stdout",
     "output_type": "stream",
     "text": [
      "68.78895123710448 <= 모평균 <= 79.07771542956219\n",
      " \n",
      "*95% 신뢰로 모평균은 68점 사이에서 79점 사이에 존재한다.\n",
      " \n",
      "신뢰구간:  10.288764192457705\n"
     ]
    }
   ],
   "source": [
    "# solution 1\n",
    "a = s_mean - 1.96*( scores.std()/math.sqrt(n) ) # 일반적으론 모평균의 표준편차를 모르기 때문에 표본평균의 편차를 사용한다.\n",
    "b = s_mean + 1.96*( scores.std()/math.sqrt(n) ) \n",
    "print( f'{a} <= 모평균 <= {b}')\n",
    "print(' ')\n",
    "print('*95% 신뢰로 모평균은 68점 사이에서 79점 사이에 존재한다.')\n",
    "print(' ')\n",
    "print('신뢰구간: ', b-a)"
   ]
  },
  {
   "cell_type": "code",
   "execution_count": 190,
   "metadata": {},
   "outputs": [
    {
     "name": "stdout",
     "output_type": "stream",
     "text": [
      "69.54981173835776 <= 모평균 <= 78.31685492830891\n",
      "*95% 신뢰로 모평균은 69.54981173835776점 사이에서 78.31685492830891점 사이에 존재한다.\n"
     ]
    }
   ],
   "source": [
    "# solution 2\n",
    "# scipy사용하기\n",
    "import scipy.stats as st\n",
    "\n",
    "c = st.norm.interval( 0.95, sample2.mean(), scale=st.sem( sample2, ddof=0 ) ) \n",
    "print( f'{c[0]} <= 모평균 <= {c[1]}')\n",
    "print(f'*95% 신뢰로 모평균은 {c[0]}점 사이에서 {c[1]}점 사이에 존재한다.')"
   ]
  },
  {
   "cell_type": "markdown",
   "metadata": {},
   "source": [
    "## 연습문제\n",
    "    어느 호수의 납의 농도는 표준편차가 3mg/L 이다 (모집단의 표준편차)\n",
    "    이 호수에서 납의 농도를 16번 측정한 결과 평균 농도는 18mg/L 이었다.\n",
    "    이 호수에서 남의 농도에 대한 모평균 m 의 신뢰도 95%의 신뢰구간을 구하여라.\n"
   ]
  },
  {
   "cell_type": "code",
   "execution_count": 198,
   "metadata": {},
   "outputs": [],
   "source": [
    "lake_std = 3 # 모편차\n",
    "n = 16 # 표본 갯수\n",
    "lake_sample_mean = 18 # 표본평균"
   ]
  },
  {
   "cell_type": "code",
   "execution_count": 201,
   "metadata": {},
   "outputs": [
    {
     "name": "stdout",
     "output_type": "stream",
     "text": [
      "16.53 <= 모평균(m) <= 19.47\n",
      "신뢰구간:  2.9399999999999977\n"
     ]
    }
   ],
   "source": [
    "a = lake_mean - 1.96*( lake_std /math.sqrt(n) ) \n",
    "b = lake_mean + 1.96*( lake_std /math.sqrt(n) ) \n",
    "print( f'{a} <= 모평균(m) <= {b}')\n",
    "print('신뢰구간: ', b-a)"
   ]
  },
  {
   "cell_type": "markdown",
   "metadata": {},
   "source": [
    "    어느 고등학교 남학생 36명의 제자리멀리뛰기 기록은 평균이 216cm 표준편차가 10cm이었다.\n",
    "    이 학교 남학생들의 제자리 멀리뛰기 기록에 대한 모평균 m의 신뢰도 99% 신뢰구간을 구하여라..\n"
   ]
  },
  {
   "cell_type": "code",
   "execution_count": 202,
   "metadata": {},
   "outputs": [
    {
     "name": "stdout",
     "output_type": "stream",
     "text": [
      "211.7 <= 모평균(m) <= 220.3\n",
      "신뢰구간:  8.600000000000023\n"
     ]
    }
   ],
   "source": [
    "n = 36 # 표본 갯수 n >= 30, 따라서 𝑠=𝜎\n",
    "b_mean = 216 # 표본 평균\n",
    "b_std = 10 # 표본편차\n",
    "\n",
    "a = b_mean - 2.58*( b_std /math.sqrt(n) ) \n",
    "b = b_mean + 2.58*( b_std /math.sqrt(n) ) \n",
    "print( f'{a} <= 모평균(m) <= {b}')\n",
    "print('신뢰구간: ', b-a )"
   ]
  },
  {
   "cell_type": "markdown",
   "metadata": {},
   "source": [
    "# 중심 극한의 정리(CLT)\n",
    "- 표본의 크기가 클 때 표본집단의 분포는 정규분포에 근사한다"
   ]
  },
  {
   "cell_type": "code",
   "execution_count": 204,
   "metadata": {},
   "outputs": [],
   "source": [
    "np.random.seed(0)\n",
    "n = 20 \n",
    "n_sample = 10000 # 표본집단이 10,000개\n",
    "sample_mean =  np.array( [np.random.choice(scores, n).mean() for _ in range(n_sample)] )"
   ]
  },
  {
   "cell_type": "code",
   "execution_count": 228,
   "metadata": {},
   "outputs": [
    {
     "data": {
      "image/png": "[encoded data removed]",
      "text/plain": [
       "<Figure size 432x288 with 1 Axes>"
      ]
     },
     "metadata": {
      "needs_background": "light"
     },
     "output_type": "display_data"
    }
   ],
   "source": [
    "plt.hist( sample_mean, bins=100, range=(0,100), density=True ) # 상대도수분포\n",
    "plt.xlim( sample_mean.min(), sample_mean.max() )\n",
    "plt.axvline( scores.mean(), c='r')\n",
    "# plt.vlines( scores.mean(), 0,0.15 )\n",
    "plt.show()"
   ]
  },
  {
   "cell_type": "markdown",
   "metadata": {},
   "source": [
    "표본평균의 평균은 **표본의 크기(x1, x2, ...)가 충분히 크면** 정규분포에 근사한다<br>\n",
    "각 표본의 평균들이 모평균에 군집해있다"
   ]
  },
  {
   "cell_type": "markdown",
   "metadata": {},
   "source": [
    "# 회귀선 도출하는 수업이 오늘의 핵심!!!"
   ]
  }
 ],
 "metadata": {
  "kernelspec": {
   "display_name": "Python 3",
   "language": "python",
   "name": "python3"
  },
  "language_info": {
   "codemirror_mode": {
    "name": "ipython",
    "version": 3
   },
   "file_extension": ".py",
   "mimetype": "text/x-python",
   "name": "python",
   "nbconvert_exporter": "python",
   "pygments_lexer": "ipython3",
   "version": "3.7.6"
  }
 },
 "nbformat": 4,
 "nbformat_minor": 4
}
